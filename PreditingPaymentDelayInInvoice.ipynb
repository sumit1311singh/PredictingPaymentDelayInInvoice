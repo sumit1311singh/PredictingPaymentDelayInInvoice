{
  "nbformat": 4,
  "nbformat_minor": 0,
  "metadata": {
    "colab": {
      "name": "Highradius.ipynb",
      "provenance": [],
      "collapsed_sections": []
    },
    "kernelspec": {
      "name": "python3",
      "display_name": "Python 3"
    },
    "language_info": {
      "name": "python"
    }
  },
  "cells": [
    {
      "cell_type": "markdown",
      "metadata": {
        "id": "oeY4JLEEPRij"
      },
      "source": [
        "# **Let's Begin**"
      ]
    },
    {
      "cell_type": "code",
      "metadata": {
        "id": "k2cfObJtk8_X"
      },
      "source": [
        "import pandas as pd\n",
        "df=pd.read_csv(\"/content/drive/MyDrive/dataset\")"
      ],
      "execution_count": 1,
      "outputs": []
    },
    {
      "cell_type": "markdown",
      "metadata": {
        "id": "HbZ3kJF4PToF"
      },
      "source": [
        "## **Sort**"
      ]
    },
    {
      "cell_type": "code",
      "metadata": {
        "id": "CnOVyGOUlwcR"
      },
      "source": [
        "#Sorting the data based on the posting date\n",
        "df=df.sort_values(['posting_date']).reset_index(drop=True)"
      ],
      "execution_count": 2,
      "outputs": []
    },
    {
      "cell_type": "markdown",
      "metadata": {
        "id": "8ktR7NyQPVfo"
      },
      "source": [
        "Creating a seperate dataframe by extracting all the rows with clear_date as NULL"
      ]
    },
    {
      "cell_type": "code",
      "metadata": {
        "id": "S6FBfSw_42yC"
      },
      "source": [
        "final_test=pd.DataFrame(df[df['clear_date'].isna()])"
      ],
      "execution_count": 3,
      "outputs": []
    },
    {
      "cell_type": "code",
      "metadata": {
        "id": "1YBTBef_mLGO"
      },
      "source": [
        "test=pd.DataFrame(df[df['clear_date'].isna()])"
      ],
      "execution_count": 4,
      "outputs": []
    },
    {
      "cell_type": "code",
      "metadata": {
        "colab": {
          "base_uri": "https://localhost:8080/",
          "height": 317
        },
        "id": "MmUOEOqfS460",
        "outputId": "7ee507e4-9060-496e-e75a-ec95def609ce"
      },
      "source": [
        "df.head()"
      ],
      "execution_count": 5,
      "outputs": [
        {
          "output_type": "execute_result",
          "data": {
            "text/html": [
              "<div>\n",
              "<style scoped>\n",
              "    .dataframe tbody tr th:only-of-type {\n",
              "        vertical-align: middle;\n",
              "    }\n",
              "\n",
              "    .dataframe tbody tr th {\n",
              "        vertical-align: top;\n",
              "    }\n",
              "\n",
              "    .dataframe thead th {\n",
              "        text-align: right;\n",
              "    }\n",
              "</style>\n",
              "<table border=\"1\" class=\"dataframe\">\n",
              "  <thead>\n",
              "    <tr style=\"text-align: right;\">\n",
              "      <th></th>\n",
              "      <th>business_code</th>\n",
              "      <th>cust_number</th>\n",
              "      <th>name_customer</th>\n",
              "      <th>clear_date</th>\n",
              "      <th>buisness_year</th>\n",
              "      <th>doc_id</th>\n",
              "      <th>posting_date</th>\n",
              "      <th>document_create_date</th>\n",
              "      <th>document_create_date.1</th>\n",
              "      <th>due_in_date</th>\n",
              "      <th>invoice_currency</th>\n",
              "      <th>document type</th>\n",
              "      <th>posting_id</th>\n",
              "      <th>area_business</th>\n",
              "      <th>total_open_amount</th>\n",
              "      <th>baseline_create_date</th>\n",
              "      <th>cust_payment_terms</th>\n",
              "      <th>invoice_id</th>\n",
              "      <th>isOpen</th>\n",
              "    </tr>\n",
              "  </thead>\n",
              "  <tbody>\n",
              "    <tr>\n",
              "      <th>0</th>\n",
              "      <td>U001</td>\n",
              "      <td>0200769623</td>\n",
              "      <td>WAL-MAR associates</td>\n",
              "      <td>2019-01-09 00:00:00</td>\n",
              "      <td>2019.0</td>\n",
              "      <td>1.928537e+09</td>\n",
              "      <td>2018-12-30</td>\n",
              "      <td>20181229</td>\n",
              "      <td>20181230</td>\n",
              "      <td>20190114.0</td>\n",
              "      <td>USD</td>\n",
              "      <td>RV</td>\n",
              "      <td>1.0</td>\n",
              "      <td>NaN</td>\n",
              "      <td>2772.34</td>\n",
              "      <td>20181230.0</td>\n",
              "      <td>NAH4</td>\n",
              "      <td>1.928537e+09</td>\n",
              "      <td>0</td>\n",
              "    </tr>\n",
              "    <tr>\n",
              "      <th>1</th>\n",
              "      <td>U001</td>\n",
              "      <td>0200769623</td>\n",
              "      <td>WAL-MAR us</td>\n",
              "      <td>2019-01-09 00:00:00</td>\n",
              "      <td>2019.0</td>\n",
              "      <td>1.928533e+09</td>\n",
              "      <td>2018-12-30</td>\n",
              "      <td>20181229</td>\n",
              "      <td>20181230</td>\n",
              "      <td>20190114.0</td>\n",
              "      <td>USD</td>\n",
              "      <td>RV</td>\n",
              "      <td>1.0</td>\n",
              "      <td>NaN</td>\n",
              "      <td>15898.07</td>\n",
              "      <td>20181230.0</td>\n",
              "      <td>NAH4</td>\n",
              "      <td>1.928533e+09</td>\n",
              "      <td>0</td>\n",
              "    </tr>\n",
              "    <tr>\n",
              "      <th>2</th>\n",
              "      <td>U001</td>\n",
              "      <td>0200769623</td>\n",
              "      <td>WAL-MAR associates</td>\n",
              "      <td>2019-01-09 00:00:00</td>\n",
              "      <td>2019.0</td>\n",
              "      <td>1.928535e+09</td>\n",
              "      <td>2018-12-30</td>\n",
              "      <td>20181229</td>\n",
              "      <td>20181230</td>\n",
              "      <td>20190114.0</td>\n",
              "      <td>USD</td>\n",
              "      <td>RV</td>\n",
              "      <td>1.0</td>\n",
              "      <td>NaN</td>\n",
              "      <td>55170.17</td>\n",
              "      <td>20181230.0</td>\n",
              "      <td>NAH4</td>\n",
              "      <td>1.928535e+09</td>\n",
              "      <td>0</td>\n",
              "    </tr>\n",
              "    <tr>\n",
              "      <th>3</th>\n",
              "      <td>U001</td>\n",
              "      <td>0200769623</td>\n",
              "      <td>WAL-MAR corp</td>\n",
              "      <td>2019-01-09 00:00:00</td>\n",
              "      <td>2019.0</td>\n",
              "      <td>1.928543e+09</td>\n",
              "      <td>2018-12-30</td>\n",
              "      <td>20181230</td>\n",
              "      <td>20181230</td>\n",
              "      <td>20190114.0</td>\n",
              "      <td>USD</td>\n",
              "      <td>RV</td>\n",
              "      <td>1.0</td>\n",
              "      <td>NaN</td>\n",
              "      <td>2987.37</td>\n",
              "      <td>20181230.0</td>\n",
              "      <td>NAH4</td>\n",
              "      <td>1.928543e+09</td>\n",
              "      <td>0</td>\n",
              "    </tr>\n",
              "    <tr>\n",
              "      <th>4</th>\n",
              "      <td>U001</td>\n",
              "      <td>CCCA02</td>\n",
              "      <td>KRAFT  associates</td>\n",
              "      <td>2019-03-01 00:00:00</td>\n",
              "      <td>2019.0</td>\n",
              "      <td>1.928537e+09</td>\n",
              "      <td>2018-12-30</td>\n",
              "      <td>20181231</td>\n",
              "      <td>20181230</td>\n",
              "      <td>20190203.0</td>\n",
              "      <td>USD</td>\n",
              "      <td>RV</td>\n",
              "      <td>1.0</td>\n",
              "      <td>NaN</td>\n",
              "      <td>17798.40</td>\n",
              "      <td>20181230.0</td>\n",
              "      <td>NAG2</td>\n",
              "      <td>1.928537e+09</td>\n",
              "      <td>0</td>\n",
              "    </tr>\n",
              "  </tbody>\n",
              "</table>\n",
              "</div>"
            ],
            "text/plain": [
              "  business_code cust_number  ...    invoice_id isOpen\n",
              "0          U001  0200769623  ...  1.928537e+09      0\n",
              "1          U001  0200769623  ...  1.928533e+09      0\n",
              "2          U001  0200769623  ...  1.928535e+09      0\n",
              "3          U001  0200769623  ...  1.928543e+09      0\n",
              "4          U001      CCCA02  ...  1.928537e+09      0\n",
              "\n",
              "[5 rows x 19 columns]"
            ]
          },
          "metadata": {
            "tags": []
          },
          "execution_count": 5
        }
      ]
    },
    {
      "cell_type": "markdown",
      "metadata": {
        "id": "eSDvXFaiPZN1"
      },
      "source": [
        "## **Preprocessing**"
      ]
    },
    {
      "cell_type": "code",
      "metadata": {
        "id": "PpOSE5b4qbbN"
      },
      "source": [
        "#Dropping the rows with clear_date as null from main dataframe\n",
        "df=df.dropna(subset=['clear_date']).reset_index(drop=True)"
      ],
      "execution_count": 6,
      "outputs": []
    },
    {
      "cell_type": "code",
      "metadata": {
        "id": "52Qgbd18sxuO"
      },
      "source": [
        "#Dropping coloum area_business as all values are null\n",
        "df=df.drop(columns=['area_business']).reset_index(drop=True)"
      ],
      "execution_count": 7,
      "outputs": []
    },
    {
      "cell_type": "code",
      "metadata": {
        "id": "vAICTvO0vtzL",
        "colab": {
          "base_uri": "https://localhost:8080/"
        },
        "outputId": "1d7d7f6d-8a9c-45f0-c257-6b94fe3b2b65"
      },
      "source": [
        "df.info()"
      ],
      "execution_count": 8,
      "outputs": [
        {
          "output_type": "stream",
          "text": [
            "<class 'pandas.core.frame.DataFrame'>\n",
            "RangeIndex: 40000 entries, 0 to 39999\n",
            "Data columns (total 18 columns):\n",
            " #   Column                  Non-Null Count  Dtype  \n",
            "---  ------                  --------------  -----  \n",
            " 0   business_code           40000 non-null  object \n",
            " 1   cust_number             40000 non-null  object \n",
            " 2   name_customer           40000 non-null  object \n",
            " 3   clear_date              40000 non-null  object \n",
            " 4   buisness_year           40000 non-null  float64\n",
            " 5   doc_id                  40000 non-null  float64\n",
            " 6   posting_date            40000 non-null  object \n",
            " 7   document_create_date    40000 non-null  int64  \n",
            " 8   document_create_date.1  40000 non-null  int64  \n",
            " 9   due_in_date             40000 non-null  float64\n",
            " 10  invoice_currency        40000 non-null  object \n",
            " 11  document type           40000 non-null  object \n",
            " 12  posting_id              40000 non-null  float64\n",
            " 13  total_open_amount       40000 non-null  float64\n",
            " 14  baseline_create_date    40000 non-null  float64\n",
            " 15  cust_payment_terms      40000 non-null  object \n",
            " 16  invoice_id              39996 non-null  float64\n",
            " 17  isOpen                  40000 non-null  int64  \n",
            "dtypes: float64(7), int64(3), object(8)\n",
            "memory usage: 5.5+ MB\n"
          ],
          "name": "stdout"
        }
      ]
    },
    {
      "cell_type": "markdown",
      "metadata": {
        "id": "c0IPmnERPbsV"
      },
      "source": [
        "### *Dropping based on Covariance*"
      ]
    },
    {
      "cell_type": "code",
      "metadata": {
        "colab": {
          "base_uri": "https://localhost:8080/",
          "height": 367
        },
        "id": "1cwK8ImyA6AG",
        "outputId": "823d6284-a9c4-4b29-dde2-b413e0cfd16c"
      },
      "source": [
        "df.cov()"
      ],
      "execution_count": 9,
      "outputs": [
        {
          "output_type": "execute_result",
          "data": {
            "text/html": [
              "<div>\n",
              "<style scoped>\n",
              "    .dataframe tbody tr th:only-of-type {\n",
              "        vertical-align: middle;\n",
              "    }\n",
              "\n",
              "    .dataframe tbody tr th {\n",
              "        vertical-align: top;\n",
              "    }\n",
              "\n",
              "    .dataframe thead th {\n",
              "        text-align: right;\n",
              "    }\n",
              "</style>\n",
              "<table border=\"1\" class=\"dataframe\">\n",
              "  <thead>\n",
              "    <tr style=\"text-align: right;\">\n",
              "      <th></th>\n",
              "      <th>buisness_year</th>\n",
              "      <th>doc_id</th>\n",
              "      <th>document_create_date</th>\n",
              "      <th>document_create_date.1</th>\n",
              "      <th>due_in_date</th>\n",
              "      <th>posting_id</th>\n",
              "      <th>total_open_amount</th>\n",
              "      <th>baseline_create_date</th>\n",
              "      <th>invoice_id</th>\n",
              "      <th>isOpen</th>\n",
              "    </tr>\n",
              "  </thead>\n",
              "  <tbody>\n",
              "    <tr>\n",
              "      <th>buisness_year</th>\n",
              "      <td>1.156073e-01</td>\n",
              "      <td>-1.122147e+06</td>\n",
              "      <td>1.054159e+03</td>\n",
              "      <td>1.065021e+03</td>\n",
              "      <td>1.094738e+03</td>\n",
              "      <td>0.0</td>\n",
              "      <td>-1.938386e+02</td>\n",
              "      <td>1.065564e+03</td>\n",
              "      <td>-1.022368e+06</td>\n",
              "      <td>0.0</td>\n",
              "    </tr>\n",
              "    <tr>\n",
              "      <th>doc_id</th>\n",
              "      <td>-1.122147e+06</td>\n",
              "      <td>8.346498e+16</td>\n",
              "      <td>-4.982625e+09</td>\n",
              "      <td>-7.732822e+09</td>\n",
              "      <td>-1.355112e+10</td>\n",
              "      <td>0.0</td>\n",
              "      <td>2.110560e+12</td>\n",
              "      <td>-4.992693e+09</td>\n",
              "      <td>7.786732e+16</td>\n",
              "      <td>0.0</td>\n",
              "    </tr>\n",
              "    <tr>\n",
              "      <th>document_create_date</th>\n",
              "      <td>1.054159e+03</td>\n",
              "      <td>-4.982625e+09</td>\n",
              "      <td>1.072207e+07</td>\n",
              "      <td>1.052254e+07</td>\n",
              "      <td>1.013739e+07</td>\n",
              "      <td>0.0</td>\n",
              "      <td>-1.234568e+06</td>\n",
              "      <td>1.050615e+07</td>\n",
              "      <td>-3.882427e+09</td>\n",
              "      <td>0.0</td>\n",
              "    </tr>\n",
              "    <tr>\n",
              "      <th>document_create_date.1</th>\n",
              "      <td>1.065021e+03</td>\n",
              "      <td>-7.732822e+09</td>\n",
              "      <td>1.052254e+07</td>\n",
              "      <td>1.064281e+07</td>\n",
              "      <td>1.022931e+07</td>\n",
              "      <td>0.0</td>\n",
              "      <td>-1.493988e+06</td>\n",
              "      <td>1.062638e+07</td>\n",
              "      <td>-6.562737e+09</td>\n",
              "      <td>0.0</td>\n",
              "    </tr>\n",
              "    <tr>\n",
              "      <th>due_in_date</th>\n",
              "      <td>1.094738e+03</td>\n",
              "      <td>-1.355112e+10</td>\n",
              "      <td>1.013739e+07</td>\n",
              "      <td>1.022931e+07</td>\n",
              "      <td>1.085155e+07</td>\n",
              "      <td>0.0</td>\n",
              "      <td>-1.850388e+06</td>\n",
              "      <td>1.024835e+07</td>\n",
              "      <td>-1.227405e+10</td>\n",
              "      <td>0.0</td>\n",
              "    </tr>\n",
              "    <tr>\n",
              "      <th>posting_id</th>\n",
              "      <td>0.000000e+00</td>\n",
              "      <td>0.000000e+00</td>\n",
              "      <td>0.000000e+00</td>\n",
              "      <td>0.000000e+00</td>\n",
              "      <td>0.000000e+00</td>\n",
              "      <td>0.0</td>\n",
              "      <td>0.000000e+00</td>\n",
              "      <td>0.000000e+00</td>\n",
              "      <td>0.000000e+00</td>\n",
              "      <td>0.0</td>\n",
              "    </tr>\n",
              "    <tr>\n",
              "      <th>total_open_amount</th>\n",
              "      <td>-1.938386e+02</td>\n",
              "      <td>2.110560e+12</td>\n",
              "      <td>-1.234568e+06</td>\n",
              "      <td>-1.493988e+06</td>\n",
              "      <td>-1.850388e+06</td>\n",
              "      <td>0.0</td>\n",
              "      <td>1.691761e+09</td>\n",
              "      <td>-1.493369e+06</td>\n",
              "      <td>2.131698e+12</td>\n",
              "      <td>0.0</td>\n",
              "    </tr>\n",
              "    <tr>\n",
              "      <th>baseline_create_date</th>\n",
              "      <td>1.065564e+03</td>\n",
              "      <td>-4.992693e+09</td>\n",
              "      <td>1.050615e+07</td>\n",
              "      <td>1.062638e+07</td>\n",
              "      <td>1.024835e+07</td>\n",
              "      <td>0.0</td>\n",
              "      <td>-1.493369e+06</td>\n",
              "      <td>1.064769e+07</td>\n",
              "      <td>-3.821450e+09</td>\n",
              "      <td>0.0</td>\n",
              "    </tr>\n",
              "    <tr>\n",
              "      <th>invoice_id</th>\n",
              "      <td>-1.022368e+06</td>\n",
              "      <td>7.786732e+16</td>\n",
              "      <td>-3.882427e+09</td>\n",
              "      <td>-6.562737e+09</td>\n",
              "      <td>-1.227405e+10</td>\n",
              "      <td>0.0</td>\n",
              "      <td>2.131698e+12</td>\n",
              "      <td>-3.821450e+09</td>\n",
              "      <td>7.786732e+16</td>\n",
              "      <td>0.0</td>\n",
              "    </tr>\n",
              "    <tr>\n",
              "      <th>isOpen</th>\n",
              "      <td>0.000000e+00</td>\n",
              "      <td>0.000000e+00</td>\n",
              "      <td>0.000000e+00</td>\n",
              "      <td>0.000000e+00</td>\n",
              "      <td>0.000000e+00</td>\n",
              "      <td>0.0</td>\n",
              "      <td>0.000000e+00</td>\n",
              "      <td>0.000000e+00</td>\n",
              "      <td>0.000000e+00</td>\n",
              "      <td>0.0</td>\n",
              "    </tr>\n",
              "  </tbody>\n",
              "</table>\n",
              "</div>"
            ],
            "text/plain": [
              "                        buisness_year        doc_id  ...    invoice_id  isOpen\n",
              "buisness_year            1.156073e-01 -1.122147e+06  ... -1.022368e+06     0.0\n",
              "doc_id                  -1.122147e+06  8.346498e+16  ...  7.786732e+16     0.0\n",
              "document_create_date     1.054159e+03 -4.982625e+09  ... -3.882427e+09     0.0\n",
              "document_create_date.1   1.065021e+03 -7.732822e+09  ... -6.562737e+09     0.0\n",
              "due_in_date              1.094738e+03 -1.355112e+10  ... -1.227405e+10     0.0\n",
              "posting_id               0.000000e+00  0.000000e+00  ...  0.000000e+00     0.0\n",
              "total_open_amount       -1.938386e+02  2.110560e+12  ...  2.131698e+12     0.0\n",
              "baseline_create_date     1.065564e+03 -4.992693e+09  ... -3.821450e+09     0.0\n",
              "invoice_id              -1.022368e+06  7.786732e+16  ...  7.786732e+16     0.0\n",
              "isOpen                   0.000000e+00  0.000000e+00  ...  0.000000e+00     0.0\n",
              "\n",
              "[10 rows x 10 columns]"
            ]
          },
          "metadata": {
            "tags": []
          },
          "execution_count": 9
        }
      ]
    },
    {
      "cell_type": "code",
      "metadata": {
        "id": "NwOrLZh0CIsJ"
      },
      "source": [
        "#Clearly posting_id and isOpen have no covariance, it is better to drop them\n",
        "df=df.drop(columns=['posting_id', 'isOpen']).reset_index(drop=True)"
      ],
      "execution_count": 10,
      "outputs": []
    },
    {
      "cell_type": "code",
      "metadata": {
        "id": "l4MaugAaGZU4"
      },
      "source": [
        "df=df.drop(columns=['document_create_date']).reset_index(drop=True)"
      ],
      "execution_count": 11,
      "outputs": []
    },
    {
      "cell_type": "markdown",
      "metadata": {
        "id": "CKx9rnULPeT1"
      },
      "source": [
        "### *Datetime Conversion*"
      ]
    },
    {
      "cell_type": "code",
      "metadata": {
        "id": "c5OAbsQgFLSY"
      },
      "source": [
        "#Converting the dates to standard format, removing time if provided\n",
        "df['clear_date']=pd.to_datetime(df['clear_date']).dt.date"
      ],
      "execution_count": 12,
      "outputs": []
    },
    {
      "cell_type": "code",
      "metadata": {
        "id": "xQYaIZfFHS1I"
      },
      "source": [
        "df['clear_date']=pd.to_datetime(df['clear_date'])"
      ],
      "execution_count": 13,
      "outputs": []
    },
    {
      "cell_type": "code",
      "metadata": {
        "id": "5GacanB-FySH"
      },
      "source": [
        "df['due_in_date'] = pd.to_datetime(df['due_in_date'], format='%Y%m%d')\n",
        "df['baseline_create_date'] = pd.to_datetime(df['baseline_create_date'], format='%Y%m%d')"
      ],
      "execution_count": 14,
      "outputs": []
    },
    {
      "cell_type": "code",
      "metadata": {
        "id": "IG6Y7SsxCo-K"
      },
      "source": [
        "df['document_create_date.1']=pd.to_datetime(df['document_create_date.1'], format='%Y%m%d', errors='ignore')"
      ],
      "execution_count": 15,
      "outputs": []
    },
    {
      "cell_type": "code",
      "metadata": {
        "colab": {
          "base_uri": "https://localhost:8080/",
          "height": 284
        },
        "id": "SyaecDipJjdF",
        "outputId": "49022a38-66fd-423f-8d14-e4a100d07f9d"
      },
      "source": [
        "df.head()"
      ],
      "execution_count": 16,
      "outputs": [
        {
          "output_type": "execute_result",
          "data": {
            "text/html": [
              "<div>\n",
              "<style scoped>\n",
              "    .dataframe tbody tr th:only-of-type {\n",
              "        vertical-align: middle;\n",
              "    }\n",
              "\n",
              "    .dataframe tbody tr th {\n",
              "        vertical-align: top;\n",
              "    }\n",
              "\n",
              "    .dataframe thead th {\n",
              "        text-align: right;\n",
              "    }\n",
              "</style>\n",
              "<table border=\"1\" class=\"dataframe\">\n",
              "  <thead>\n",
              "    <tr style=\"text-align: right;\">\n",
              "      <th></th>\n",
              "      <th>business_code</th>\n",
              "      <th>cust_number</th>\n",
              "      <th>name_customer</th>\n",
              "      <th>clear_date</th>\n",
              "      <th>buisness_year</th>\n",
              "      <th>doc_id</th>\n",
              "      <th>posting_date</th>\n",
              "      <th>document_create_date.1</th>\n",
              "      <th>due_in_date</th>\n",
              "      <th>invoice_currency</th>\n",
              "      <th>document type</th>\n",
              "      <th>total_open_amount</th>\n",
              "      <th>baseline_create_date</th>\n",
              "      <th>cust_payment_terms</th>\n",
              "      <th>invoice_id</th>\n",
              "    </tr>\n",
              "  </thead>\n",
              "  <tbody>\n",
              "    <tr>\n",
              "      <th>0</th>\n",
              "      <td>U001</td>\n",
              "      <td>0200769623</td>\n",
              "      <td>WAL-MAR associates</td>\n",
              "      <td>2019-01-09</td>\n",
              "      <td>2019.0</td>\n",
              "      <td>1.928537e+09</td>\n",
              "      <td>2018-12-30</td>\n",
              "      <td>2018-12-30</td>\n",
              "      <td>2019-01-14</td>\n",
              "      <td>USD</td>\n",
              "      <td>RV</td>\n",
              "      <td>2772.34</td>\n",
              "      <td>2018-12-30</td>\n",
              "      <td>NAH4</td>\n",
              "      <td>1.928537e+09</td>\n",
              "    </tr>\n",
              "    <tr>\n",
              "      <th>1</th>\n",
              "      <td>U001</td>\n",
              "      <td>0200769623</td>\n",
              "      <td>WAL-MAR us</td>\n",
              "      <td>2019-01-09</td>\n",
              "      <td>2019.0</td>\n",
              "      <td>1.928533e+09</td>\n",
              "      <td>2018-12-30</td>\n",
              "      <td>2018-12-30</td>\n",
              "      <td>2019-01-14</td>\n",
              "      <td>USD</td>\n",
              "      <td>RV</td>\n",
              "      <td>15898.07</td>\n",
              "      <td>2018-12-30</td>\n",
              "      <td>NAH4</td>\n",
              "      <td>1.928533e+09</td>\n",
              "    </tr>\n",
              "    <tr>\n",
              "      <th>2</th>\n",
              "      <td>U001</td>\n",
              "      <td>0200769623</td>\n",
              "      <td>WAL-MAR associates</td>\n",
              "      <td>2019-01-09</td>\n",
              "      <td>2019.0</td>\n",
              "      <td>1.928535e+09</td>\n",
              "      <td>2018-12-30</td>\n",
              "      <td>2018-12-30</td>\n",
              "      <td>2019-01-14</td>\n",
              "      <td>USD</td>\n",
              "      <td>RV</td>\n",
              "      <td>55170.17</td>\n",
              "      <td>2018-12-30</td>\n",
              "      <td>NAH4</td>\n",
              "      <td>1.928535e+09</td>\n",
              "    </tr>\n",
              "    <tr>\n",
              "      <th>3</th>\n",
              "      <td>U001</td>\n",
              "      <td>0200769623</td>\n",
              "      <td>WAL-MAR corp</td>\n",
              "      <td>2019-01-09</td>\n",
              "      <td>2019.0</td>\n",
              "      <td>1.928543e+09</td>\n",
              "      <td>2018-12-30</td>\n",
              "      <td>2018-12-30</td>\n",
              "      <td>2019-01-14</td>\n",
              "      <td>USD</td>\n",
              "      <td>RV</td>\n",
              "      <td>2987.37</td>\n",
              "      <td>2018-12-30</td>\n",
              "      <td>NAH4</td>\n",
              "      <td>1.928543e+09</td>\n",
              "    </tr>\n",
              "    <tr>\n",
              "      <th>4</th>\n",
              "      <td>U001</td>\n",
              "      <td>CCCA02</td>\n",
              "      <td>KRAFT  associates</td>\n",
              "      <td>2019-03-01</td>\n",
              "      <td>2019.0</td>\n",
              "      <td>1.928537e+09</td>\n",
              "      <td>2018-12-30</td>\n",
              "      <td>2018-12-30</td>\n",
              "      <td>2019-02-03</td>\n",
              "      <td>USD</td>\n",
              "      <td>RV</td>\n",
              "      <td>17798.40</td>\n",
              "      <td>2018-12-30</td>\n",
              "      <td>NAG2</td>\n",
              "      <td>1.928537e+09</td>\n",
              "    </tr>\n",
              "  </tbody>\n",
              "</table>\n",
              "</div>"
            ],
            "text/plain": [
              "  business_code cust_number  ... cust_payment_terms    invoice_id\n",
              "0          U001  0200769623  ...               NAH4  1.928537e+09\n",
              "1          U001  0200769623  ...               NAH4  1.928533e+09\n",
              "2          U001  0200769623  ...               NAH4  1.928535e+09\n",
              "3          U001  0200769623  ...               NAH4  1.928543e+09\n",
              "4          U001      CCCA02  ...               NAG2  1.928537e+09\n",
              "\n",
              "[5 rows x 15 columns]"
            ]
          },
          "metadata": {
            "tags": []
          },
          "execution_count": 16
        }
      ]
    },
    {
      "cell_type": "code",
      "metadata": {
        "id": "iq3eTafeJm-T"
      },
      "source": [
        "df['posting_date']=pd.to_datetime(df['posting_date'])"
      ],
      "execution_count": 17,
      "outputs": []
    },
    {
      "cell_type": "code",
      "metadata": {
        "colab": {
          "base_uri": "https://localhost:8080/",
          "height": 167
        },
        "id": "n4dX0pKzJ72W",
        "outputId": "31cdfe0f-e8ac-4afa-da55-58c266dc6d32"
      },
      "source": [
        "df.corr()"
      ],
      "execution_count": 18,
      "outputs": [
        {
          "output_type": "execute_result",
          "data": {
            "text/html": [
              "<div>\n",
              "<style scoped>\n",
              "    .dataframe tbody tr th:only-of-type {\n",
              "        vertical-align: middle;\n",
              "    }\n",
              "\n",
              "    .dataframe tbody tr th {\n",
              "        vertical-align: top;\n",
              "    }\n",
              "\n",
              "    .dataframe thead th {\n",
              "        text-align: right;\n",
              "    }\n",
              "</style>\n",
              "<table border=\"1\" class=\"dataframe\">\n",
              "  <thead>\n",
              "    <tr style=\"text-align: right;\">\n",
              "      <th></th>\n",
              "      <th>buisness_year</th>\n",
              "      <th>doc_id</th>\n",
              "      <th>total_open_amount</th>\n",
              "      <th>invoice_id</th>\n",
              "    </tr>\n",
              "  </thead>\n",
              "  <tbody>\n",
              "    <tr>\n",
              "      <th>buisness_year</th>\n",
              "      <td>1.000000</td>\n",
              "      <td>-0.011424</td>\n",
              "      <td>-0.013860</td>\n",
              "      <td>-0.010775</td>\n",
              "    </tr>\n",
              "    <tr>\n",
              "      <th>doc_id</th>\n",
              "      <td>-0.011424</td>\n",
              "      <td>1.000000</td>\n",
              "      <td>0.177614</td>\n",
              "      <td>1.000000</td>\n",
              "    </tr>\n",
              "    <tr>\n",
              "      <th>total_open_amount</th>\n",
              "      <td>-0.013860</td>\n",
              "      <td>0.177614</td>\n",
              "      <td>1.000000</td>\n",
              "      <td>0.185724</td>\n",
              "    </tr>\n",
              "    <tr>\n",
              "      <th>invoice_id</th>\n",
              "      <td>-0.010775</td>\n",
              "      <td>1.000000</td>\n",
              "      <td>0.185724</td>\n",
              "      <td>1.000000</td>\n",
              "    </tr>\n",
              "  </tbody>\n",
              "</table>\n",
              "</div>"
            ],
            "text/plain": [
              "                   buisness_year    doc_id  total_open_amount  invoice_id\n",
              "buisness_year           1.000000 -0.011424          -0.013860   -0.010775\n",
              "doc_id                 -0.011424  1.000000           0.177614    1.000000\n",
              "total_open_amount      -0.013860  0.177614           1.000000    0.185724\n",
              "invoice_id             -0.010775  1.000000           0.185724    1.000000"
            ]
          },
          "metadata": {
            "tags": []
          },
          "execution_count": 18
        }
      ]
    },
    {
      "cell_type": "code",
      "metadata": {
        "id": "JDqwcH6rKU_-"
      },
      "source": [
        "df=df.drop(columns=['invoice_id']).reset_index(drop=True)"
      ],
      "execution_count": 19,
      "outputs": []
    },
    {
      "cell_type": "code",
      "metadata": {
        "id": "PcTbkquoKzTG"
      },
      "source": [
        "df['delay']=pd.to_numeric((df['clear_date'].dt.date-df['due_in_date'].dt.date).dt.days, downcast='integer')"
      ],
      "execution_count": 20,
      "outputs": []
    },
    {
      "cell_type": "code",
      "metadata": {
        "id": "YG95_6rYOWbr"
      },
      "source": [
        "df.drop_duplicates(keep='first', inplace=True)"
      ],
      "execution_count": 21,
      "outputs": []
    },
    {
      "cell_type": "code",
      "metadata": {
        "id": "tZJam27Ukvvo"
      },
      "source": [
        "df=df.drop(columns=['document type']).reset_index(drop=True)"
      ],
      "execution_count": 22,
      "outputs": []
    },
    {
      "cell_type": "code",
      "metadata": {
        "id": "ATkFkLu_gm_v"
      },
      "source": [
        "#all unique\n",
        "df=df.drop(columns=['doc_id']).reset_index(drop=True)"
      ],
      "execution_count": 23,
      "outputs": []
    },
    {
      "cell_type": "markdown",
      "metadata": {
        "id": "oqzQQ3uiPlKp"
      },
      "source": [
        "## **Spliting data for train, validation and test** "
      ]
    },
    {
      "cell_type": "code",
      "metadata": {
        "id": "9Cznq8ASM4HJ"
      },
      "source": [
        "X=df.drop('delay', axis=1)\n",
        "y=df['delay']"
      ],
      "execution_count": 24,
      "outputs": []
    },
    {
      "cell_type": "code",
      "metadata": {
        "id": "GNY4ImLlNh24"
      },
      "source": [
        "from sklearn.model_selection import train_test_split\n",
        "X_train,X_inter_test,y_train,y_inter_test = train_test_split(X,y,test_size=0.3,random_state=0 , shuffle = False)"
      ],
      "execution_count": 25,
      "outputs": []
    },
    {
      "cell_type": "code",
      "metadata": {
        "id": "ENJdkB_DNvRx"
      },
      "source": [
        "X_val,X_test,y_val,y_test = train_test_split(X_inter_test,y_inter_test,test_size=0.5,random_state=0 , shuffle = False)"
      ],
      "execution_count": 26,
      "outputs": []
    },
    {
      "cell_type": "code",
      "metadata": {
        "colab": {
          "base_uri": "https://localhost:8080/"
        },
        "id": "mKtxeojPN40S",
        "outputId": "fa639f7e-26f3-43b7-c786-b16aca05f563"
      },
      "source": [
        "X_train.shape , X_val.shape , X_test.shape"
      ],
      "execution_count": 27,
      "outputs": [
        {
          "output_type": "execute_result",
          "data": {
            "text/plain": [
              "((27392, 12), (5870, 12), (5870, 12))"
            ]
          },
          "metadata": {
            "tags": []
          },
          "execution_count": 27
        }
      ]
    },
    {
      "cell_type": "markdown",
      "metadata": {
        "id": "CDqgbfhsPoWr"
      },
      "source": [
        "## **EDA**"
      ]
    },
    {
      "cell_type": "code",
      "metadata": {
        "colab": {
          "base_uri": "https://localhost:8080/",
          "height": 352
        },
        "id": "QxlMoGR8N7BM",
        "outputId": "9f5764f6-f208-4c07-ad7f-8201eac5eb4d"
      },
      "source": [
        "#Seaborn distplot lets you show a histogram with a line on it. This can be shown in all kinds of variations.\n",
        "import seaborn as sns\n",
        "sns.distplot(y_train)"
      ],
      "execution_count": 28,
      "outputs": [
        {
          "output_type": "stream",
          "text": [
            "/usr/local/lib/python3.7/dist-packages/seaborn/distributions.py:2557: FutureWarning: `distplot` is a deprecated function and will be removed in a future version. Please adapt your code to use either `displot` (a figure-level function with similar flexibility) or `histplot` (an axes-level function for histograms).\n",
            "  warnings.warn(msg, FutureWarning)\n"
          ],
          "name": "stderr"
        },
        {
          "output_type": "execute_result",
          "data": {
            "text/plain": [
              "<matplotlib.axes._subplots.AxesSubplot at 0x7f46ae6ebd90>"
            ]
          },
          "metadata": {
            "tags": []
          },
          "execution_count": 28
        },
        {
          "output_type": "display_data",
          "data": {
            "image/png": "[encoded data removed]",
            "text/plain": [
              "<Figure size 432x288 with 1 Axes>"
            ]
          },
          "metadata": {
            "tags": [],
            "needs_background": "light"
          }
        }
      ]
    },
    {
      "cell_type": "markdown",
      "metadata": {
        "id": "P4hkVk1g45eD"
      },
      "source": [
        "Here we can see that the data is a bit right skewed and also seems like we shall remove some outliers"
      ]
    },
    {
      "cell_type": "code",
      "metadata": {
        "colab": {
          "base_uri": "https://localhost:8080/"
        },
        "id": "M7N9g_w4PyhA",
        "outputId": "3b9d3bc0-7f43-43e6-fdf8-8bdef16382d9"
      },
      "source": [
        "y_train.value_counts()"
      ],
      "execution_count": 29,
      "outputs": [
        {
          "output_type": "execute_result",
          "data": {
            "text/plain": [
              " 0      5797\n",
              " 1      3291\n",
              " 2      2875\n",
              "-5      2024\n",
              "-4      1817\n",
              "        ... \n",
              " 87        1\n",
              " 103       1\n",
              "-72        1\n",
              "-76        1\n",
              " 72        1\n",
              "Name: delay, Length: 168, dtype: int64"
            ]
          },
          "metadata": {
            "tags": []
          },
          "execution_count": 29
        }
      ]
    },
    {
      "cell_type": "code",
      "metadata": {
        "id": "XPnUukDqQYEw"
      },
      "source": [
        "import  matplotlib.pyplot as plt\n",
        "import numpy as np"
      ],
      "execution_count": 30,
      "outputs": []
    },
    {
      "cell_type": "code",
      "metadata": {
        "colab": {
          "base_uri": "https://localhost:8080/",
          "height": 477
        },
        "id": "awGyvx51QrvO",
        "outputId": "574b4304-ca50-410c-9159-6df04a8c3a12"
      },
      "source": [
        "#A box plot/box-and-whisker plot shows the distribution of data in a way that facilitates comparisons between variables or across levels of a categorical variable\n",
        "#This plot helps us verify whether we actually have outliers, if yes how many and in what range \n",
        "plt.figure(figsize = (12,6))\n",
        "sns.boxplot(y_train)\n",
        "plt.title('BoxPlot for Delay')\n",
        "plt.xlabel(\"Days\")"
      ],
      "execution_count": 31,
      "outputs": [
        {
          "output_type": "stream",
          "text": [
            "/usr/local/lib/python3.7/dist-packages/seaborn/_decorators.py:43: FutureWarning: Pass the following variable as a keyword arg: x. From version 0.12, the only valid positional argument will be `data`, and passing other arguments without an explicit keyword will result in an error or misinterpretation.\n",
            "  FutureWarning\n"
          ],
          "name": "stderr"
        },
        {
          "output_type": "execute_result",
          "data": {
            "text/plain": [
              "Text(0.5, 0, 'Days')"
            ]
          },
          "metadata": {
            "tags": []
          },
          "execution_count": 31
        },
        {
          "output_type": "display_data",
          "data": {
            "image/png": "[encoded data removed]",
            "text/plain": [
              "<Figure size 864x432 with 1 Axes>"
            ]
          },
          "metadata": {
            "tags": [],
            "needs_background": "light"
          }
        }
      ]
    },
    {
      "cell_type": "code",
      "metadata": {
        "id": "QAWyoMK-QumY"
      },
      "source": [
        "X_train=X_train.merge(y_train,on = X_train.index)"
      ],
      "execution_count": 32,
      "outputs": []
    },
    {
      "cell_type": "markdown",
      "metadata": {
        "id": "gWCM0YUnlQAL"
      },
      "source": [
        "### Removing Outliers"
      ]
    },
    {
      "cell_type": "code",
      "metadata": {
        "id": "EwnL-zr7T3qT"
      },
      "source": [
        "#The delay more than 120 and also less tha -60 appear to be outlier based on tha boxplot\n",
        "X_train=X_train[X_train['delay']<120]\n",
        "X_train=X_train[X_train['delay']>-60]"
      ],
      "execution_count": 33,
      "outputs": []
    },
    {
      "cell_type": "code",
      "metadata": {
        "colab": {
          "base_uri": "https://localhost:8080/"
        },
        "id": "WarYoNwgVX6Y",
        "outputId": "110fcc66-f683-487d-ffe0-9f0e51f4d2a3"
      },
      "source": [
        "X_train.info()"
      ],
      "execution_count": 34,
      "outputs": [
        {
          "output_type": "stream",
          "text": [
            "<class 'pandas.core.frame.DataFrame'>\n",
            "Int64Index: 27356 entries, 0 to 27391\n",
            "Data columns (total 14 columns):\n",
            " #   Column                  Non-Null Count  Dtype         \n",
            "---  ------                  --------------  -----         \n",
            " 0   key_0                   27356 non-null  int64         \n",
            " 1   business_code           27356 non-null  object        \n",
            " 2   cust_number             27356 non-null  object        \n",
            " 3   name_customer           27356 non-null  object        \n",
            " 4   clear_date              27356 non-null  datetime64[ns]\n",
            " 5   buisness_year           27356 non-null  float64       \n",
            " 6   posting_date            27356 non-null  datetime64[ns]\n",
            " 7   document_create_date.1  27356 non-null  datetime64[ns]\n",
            " 8   due_in_date             27356 non-null  datetime64[ns]\n",
            " 9   invoice_currency        27356 non-null  object        \n",
            " 10  total_open_amount       27356 non-null  float64       \n",
            " 11  baseline_create_date    27356 non-null  datetime64[ns]\n",
            " 12  cust_payment_terms      27356 non-null  object        \n",
            " 13  delay                   27356 non-null  int16         \n",
            "dtypes: datetime64[ns](5), float64(2), int16(1), int64(1), object(5)\n",
            "memory usage: 3.0+ MB\n"
          ],
          "name": "stdout"
        }
      ]
    },
    {
      "cell_type": "code",
      "metadata": {
        "id": "BKr80w1mVpcS"
      },
      "source": [
        "y_train = X_train['delay']\n",
        "X_train = X_train.drop('delay', axis=1)"
      ],
      "execution_count": 35,
      "outputs": []
    },
    {
      "cell_type": "code",
      "metadata": {
        "id": "gNTHHjzOYmya"
      },
      "source": [
        "X_train=X_train.drop('key_0', axis=1)"
      ],
      "execution_count": 36,
      "outputs": []
    },
    {
      "cell_type": "code",
      "metadata": {
        "colab": {
          "base_uri": "https://localhost:8080/",
          "height": 493
        },
        "id": "ZDVRsMkYZOfr",
        "outputId": "75a05b38-07da-4e19-adef-dde42a2c7eb5"
      },
      "source": [
        "X_train.reset_index(drop=True)"
      ],
      "execution_count": 37,
      "outputs": [
        {
          "output_type": "execute_result",
          "data": {
            "text/html": [
              "<div>\n",
              "<style scoped>\n",
              "    .dataframe tbody tr th:only-of-type {\n",
              "        vertical-align: middle;\n",
              "    }\n",
              "\n",
              "    .dataframe tbody tr th {\n",
              "        vertical-align: top;\n",
              "    }\n",
              "\n",
              "    .dataframe thead th {\n",
              "        text-align: right;\n",
              "    }\n",
              "</style>\n",
              "<table border=\"1\" class=\"dataframe\">\n",
              "  <thead>\n",
              "    <tr style=\"text-align: right;\">\n",
              "      <th></th>\n",
              "      <th>business_code</th>\n",
              "      <th>cust_number</th>\n",
              "      <th>name_customer</th>\n",
              "      <th>clear_date</th>\n",
              "      <th>buisness_year</th>\n",
              "      <th>posting_date</th>\n",
              "      <th>document_create_date.1</th>\n",
              "      <th>due_in_date</th>\n",
              "      <th>invoice_currency</th>\n",
              "      <th>total_open_amount</th>\n",
              "      <th>baseline_create_date</th>\n",
              "      <th>cust_payment_terms</th>\n",
              "    </tr>\n",
              "  </thead>\n",
              "  <tbody>\n",
              "    <tr>\n",
              "      <th>0</th>\n",
              "      <td>U001</td>\n",
              "      <td>0200769623</td>\n",
              "      <td>WAL-MAR associates</td>\n",
              "      <td>2019-01-09</td>\n",
              "      <td>2019.0</td>\n",
              "      <td>2018-12-30</td>\n",
              "      <td>2018-12-30</td>\n",
              "      <td>2019-01-14</td>\n",
              "      <td>USD</td>\n",
              "      <td>2772.34</td>\n",
              "      <td>2018-12-30</td>\n",
              "      <td>NAH4</td>\n",
              "    </tr>\n",
              "    <tr>\n",
              "      <th>1</th>\n",
              "      <td>U001</td>\n",
              "      <td>0200769623</td>\n",
              "      <td>WAL-MAR us</td>\n",
              "      <td>2019-01-09</td>\n",
              "      <td>2019.0</td>\n",
              "      <td>2018-12-30</td>\n",
              "      <td>2018-12-30</td>\n",
              "      <td>2019-01-14</td>\n",
              "      <td>USD</td>\n",
              "      <td>15898.07</td>\n",
              "      <td>2018-12-30</td>\n",
              "      <td>NAH4</td>\n",
              "    </tr>\n",
              "    <tr>\n",
              "      <th>2</th>\n",
              "      <td>U001</td>\n",
              "      <td>0200769623</td>\n",
              "      <td>WAL-MAR associates</td>\n",
              "      <td>2019-01-09</td>\n",
              "      <td>2019.0</td>\n",
              "      <td>2018-12-30</td>\n",
              "      <td>2018-12-30</td>\n",
              "      <td>2019-01-14</td>\n",
              "      <td>USD</td>\n",
              "      <td>55170.17</td>\n",
              "      <td>2018-12-30</td>\n",
              "      <td>NAH4</td>\n",
              "    </tr>\n",
              "    <tr>\n",
              "      <th>3</th>\n",
              "      <td>U001</td>\n",
              "      <td>0200769623</td>\n",
              "      <td>WAL-MAR corp</td>\n",
              "      <td>2019-01-09</td>\n",
              "      <td>2019.0</td>\n",
              "      <td>2018-12-30</td>\n",
              "      <td>2018-12-30</td>\n",
              "      <td>2019-01-14</td>\n",
              "      <td>USD</td>\n",
              "      <td>2987.37</td>\n",
              "      <td>2018-12-30</td>\n",
              "      <td>NAH4</td>\n",
              "    </tr>\n",
              "    <tr>\n",
              "      <th>4</th>\n",
              "      <td>U001</td>\n",
              "      <td>CCCA02</td>\n",
              "      <td>KRAFT  associates</td>\n",
              "      <td>2019-03-01</td>\n",
              "      <td>2019.0</td>\n",
              "      <td>2018-12-30</td>\n",
              "      <td>2018-12-30</td>\n",
              "      <td>2019-02-03</td>\n",
              "      <td>USD</td>\n",
              "      <td>17798.40</td>\n",
              "      <td>2018-12-30</td>\n",
              "      <td>NAG2</td>\n",
              "    </tr>\n",
              "    <tr>\n",
              "      <th>...</th>\n",
              "      <td>...</td>\n",
              "      <td>...</td>\n",
              "      <td>...</td>\n",
              "      <td>...</td>\n",
              "      <td>...</td>\n",
              "      <td>...</td>\n",
              "      <td>...</td>\n",
              "      <td>...</td>\n",
              "      <td>...</td>\n",
              "      <td>...</td>\n",
              "      <td>...</td>\n",
              "      <td>...</td>\n",
              "    </tr>\n",
              "    <tr>\n",
              "      <th>27351</th>\n",
              "      <td>CA02</td>\n",
              "      <td>0140104240</td>\n",
              "      <td>FEDER us</td>\n",
              "      <td>2019-10-23</td>\n",
              "      <td>2019.0</td>\n",
              "      <td>2019-10-08</td>\n",
              "      <td>2019-10-08</td>\n",
              "      <td>2019-10-25</td>\n",
              "      <td>CAD</td>\n",
              "      <td>225708.70</td>\n",
              "      <td>2019-10-15</td>\n",
              "      <td>CA10</td>\n",
              "    </tr>\n",
              "    <tr>\n",
              "      <th>27352</th>\n",
              "      <td>U001</td>\n",
              "      <td>0200793568</td>\n",
              "      <td>SUPE corp</td>\n",
              "      <td>2019-10-24</td>\n",
              "      <td>2019.0</td>\n",
              "      <td>2019-10-08</td>\n",
              "      <td>2019-10-08</td>\n",
              "      <td>2019-10-23</td>\n",
              "      <td>USD</td>\n",
              "      <td>22394.71</td>\n",
              "      <td>2019-10-08</td>\n",
              "      <td>NAA8</td>\n",
              "    </tr>\n",
              "    <tr>\n",
              "      <th>27353</th>\n",
              "      <td>U001</td>\n",
              "      <td>0200707822</td>\n",
              "      <td>PUBLI associates</td>\n",
              "      <td>2019-10-23</td>\n",
              "      <td>2019.0</td>\n",
              "      <td>2019-10-08</td>\n",
              "      <td>2019-10-08</td>\n",
              "      <td>2019-10-23</td>\n",
              "      <td>USD</td>\n",
              "      <td>125281.24</td>\n",
              "      <td>2019-10-08</td>\n",
              "      <td>NAA8</td>\n",
              "    </tr>\n",
              "    <tr>\n",
              "      <th>27354</th>\n",
              "      <td>U001</td>\n",
              "      <td>0200777735</td>\n",
              "      <td>NASH  corp</td>\n",
              "      <td>2019-10-22</td>\n",
              "      <td>2019.0</td>\n",
              "      <td>2019-10-08</td>\n",
              "      <td>2019-10-08</td>\n",
              "      <td>2019-10-23</td>\n",
              "      <td>USD</td>\n",
              "      <td>8608.49</td>\n",
              "      <td>2019-10-08</td>\n",
              "      <td>NAA8</td>\n",
              "    </tr>\n",
              "    <tr>\n",
              "      <th>27355</th>\n",
              "      <td>U001</td>\n",
              "      <td>0200712349</td>\n",
              "      <td>FOOD in</td>\n",
              "      <td>2019-10-17</td>\n",
              "      <td>2019.0</td>\n",
              "      <td>2019-10-08</td>\n",
              "      <td>2019-10-08</td>\n",
              "      <td>2019-10-23</td>\n",
              "      <td>USD</td>\n",
              "      <td>3889.03</td>\n",
              "      <td>2019-10-08</td>\n",
              "      <td>NAA8</td>\n",
              "    </tr>\n",
              "  </tbody>\n",
              "</table>\n",
              "<p>27356 rows × 12 columns</p>\n",
              "</div>"
            ],
            "text/plain": [
              "      business_code cust_number  ... baseline_create_date cust_payment_terms\n",
              "0              U001  0200769623  ...           2018-12-30               NAH4\n",
              "1              U001  0200769623  ...           2018-12-30               NAH4\n",
              "2              U001  0200769623  ...           2018-12-30               NAH4\n",
              "3              U001  0200769623  ...           2018-12-30               NAH4\n",
              "4              U001      CCCA02  ...           2018-12-30               NAG2\n",
              "...             ...         ...  ...                  ...                ...\n",
              "27351          CA02  0140104240  ...           2019-10-15               CA10\n",
              "27352          U001  0200793568  ...           2019-10-08               NAA8\n",
              "27353          U001  0200707822  ...           2019-10-08               NAA8\n",
              "27354          U001  0200777735  ...           2019-10-08               NAA8\n",
              "27355          U001  0200712349  ...           2019-10-08               NAA8\n",
              "\n",
              "[27356 rows x 12 columns]"
            ]
          },
          "metadata": {
            "tags": []
          },
          "execution_count": 37
        }
      ]
    },
    {
      "cell_type": "markdown",
      "metadata": {
        "id": "tKFe9wKpaQMw"
      },
      "source": [
        "## **Feature Engg**"
      ]
    },
    {
      "cell_type": "code",
      "metadata": {
        "colab": {
          "base_uri": "https://localhost:8080/"
        },
        "id": "2_B3ZP_PaOi9",
        "outputId": "663673cb-b25b-4613-f406-d9a5f68e9689"
      },
      "source": [
        "X_train.info()"
      ],
      "execution_count": 38,
      "outputs": [
        {
          "output_type": "stream",
          "text": [
            "<class 'pandas.core.frame.DataFrame'>\n",
            "Int64Index: 27356 entries, 0 to 27391\n",
            "Data columns (total 12 columns):\n",
            " #   Column                  Non-Null Count  Dtype         \n",
            "---  ------                  --------------  -----         \n",
            " 0   business_code           27356 non-null  object        \n",
            " 1   cust_number             27356 non-null  object        \n",
            " 2   name_customer           27356 non-null  object        \n",
            " 3   clear_date              27356 non-null  datetime64[ns]\n",
            " 4   buisness_year           27356 non-null  float64       \n",
            " 5   posting_date            27356 non-null  datetime64[ns]\n",
            " 6   document_create_date.1  27356 non-null  datetime64[ns]\n",
            " 7   due_in_date             27356 non-null  datetime64[ns]\n",
            " 8   invoice_currency        27356 non-null  object        \n",
            " 9   total_open_amount       27356 non-null  float64       \n",
            " 10  baseline_create_date    27356 non-null  datetime64[ns]\n",
            " 11  cust_payment_terms      27356 non-null  object        \n",
            "dtypes: datetime64[ns](5), float64(2), object(5)\n",
            "memory usage: 2.7+ MB\n"
          ],
          "name": "stdout"
        }
      ]
    },
    {
      "cell_type": "code",
      "metadata": {
        "id": "ett6zSOnkswC"
      },
      "source": [
        "#Class for specifically performing label encoding\n",
        "from sklearn.preprocessing import LabelEncoder\n",
        "\n",
        "class LabelEncoderExt(object):\n",
        "    def __init__(self):\n",
        "        \"\"\"\n",
        "        It differs from LabelEncoder by handling new classes and providing a value for it [Unknown]\n",
        "        Unknown will be added in fit and transform will take care of new item. It gives unknown class id\n",
        "        \"\"\"\n",
        "        self.label_encoder = LabelEncoder()\n",
        "        # self.classes_ = self.label_encoder.classes_\n",
        "\n",
        "    def fit(self, data_list):\n",
        "        \"\"\"\n",
        "        This will fit the encoder for all the unique values and introduce unknown value\n",
        "        :param data_list: A list of string\n",
        "        :return: self\n",
        "        \"\"\"\n",
        "        self.label_encoder = self.label_encoder.fit(list(data_list) + ['Unknown'])\n",
        "        self.classes_ = self.label_encoder.classes_\n",
        "\n",
        "        return self\n",
        "\n",
        "    def transform(self, data_list):\n",
        "        \"\"\"\n",
        "        This will transform the data_list to id list where the new values get assigned to Unknown class\n",
        "        :param data_list:\n",
        "        :return:\n",
        "        \"\"\"\n",
        "        new_data_list = list(data_list)\n",
        "        for unique_item in np.unique(data_list):\n",
        "            if unique_item not in self.label_encoder.classes_:\n",
        "                new_data_list = ['Unknown' if x==unique_item else x for x in new_data_list]\n",
        "\n",
        "        return self.label_encoder.transform(new_data_list)"
      ],
      "execution_count": 39,
      "outputs": []
    },
    {
      "cell_type": "markdown",
      "metadata": {
        "id": "3vSO4dACNJr1"
      },
      "source": [
        "Encoding all the object type values into int64 type"
      ]
    },
    {
      "cell_type": "code",
      "metadata": {
        "id": "FTMtEtY4aU_9",
        "colab": {
          "base_uri": "https://localhost:8080/"
        },
        "outputId": "cc658e9c-35f4-4955-bd80-9f6bdf143801"
      },
      "source": [
        "business_encoder = LabelEncoderExt()\n",
        "business_encoder.fit(X_train['business_code'])\n",
        "X_train['business_code'] = business_encoder.transform(X_train['business_code'])\n",
        "X_val['business_code'] = business_encoder.transform(X_val['business_code'])\n",
        "X_test['business_code'] = business_encoder.transform(X_test['business_code'])"
      ],
      "execution_count": 40,
      "outputs": [
        {
          "output_type": "stream",
          "text": [
            "/usr/local/lib/python3.7/dist-packages/ipykernel_launcher.py:4: SettingWithCopyWarning: \n",
            "A value is trying to be set on a copy of a slice from a DataFrame.\n",
            "Try using .loc[row_indexer,col_indexer] = value instead\n",
            "\n",
            "See the caveats in the documentation: https://pandas.pydata.org/pandas-docs/stable/user_guide/indexing.html#returning-a-view-versus-a-copy\n",
            "  after removing the cwd from sys.path.\n",
            "/usr/local/lib/python3.7/dist-packages/ipykernel_launcher.py:5: SettingWithCopyWarning: \n",
            "A value is trying to be set on a copy of a slice from a DataFrame.\n",
            "Try using .loc[row_indexer,col_indexer] = value instead\n",
            "\n",
            "See the caveats in the documentation: https://pandas.pydata.org/pandas-docs/stable/user_guide/indexing.html#returning-a-view-versus-a-copy\n",
            "  \"\"\"\n"
          ],
          "name": "stderr"
        }
      ]
    },
    {
      "cell_type": "code",
      "metadata": {
        "id": "tded6IfFclvX",
        "colab": {
          "base_uri": "https://localhost:8080/"
        },
        "outputId": "e8633e81-aa1c-427c-ae05-f8fea085c685"
      },
      "source": [
        "cust_encoder = LabelEncoderExt()\n",
        "cust_encoder.fit(X_train['cust_number'])\n",
        "X_train['cust_number'] = cust_encoder.transform(X_train['cust_number'].astype('str'))\n",
        "X_val['cust_number'] = cust_encoder.transform(X_val['cust_number'].astype('str'))\n",
        "X_test['cust_number'] = cust_encoder.transform(X_test['cust_number'].astype('str'))"
      ],
      "execution_count": 41,
      "outputs": [
        {
          "output_type": "stream",
          "text": [
            "/usr/local/lib/python3.7/dist-packages/ipykernel_launcher.py:4: SettingWithCopyWarning: \n",
            "A value is trying to be set on a copy of a slice from a DataFrame.\n",
            "Try using .loc[row_indexer,col_indexer] = value instead\n",
            "\n",
            "See the caveats in the documentation: https://pandas.pydata.org/pandas-docs/stable/user_guide/indexing.html#returning-a-view-versus-a-copy\n",
            "  after removing the cwd from sys.path.\n",
            "/usr/local/lib/python3.7/dist-packages/ipykernel_launcher.py:5: SettingWithCopyWarning: \n",
            "A value is trying to be set on a copy of a slice from a DataFrame.\n",
            "Try using .loc[row_indexer,col_indexer] = value instead\n",
            "\n",
            "See the caveats in the documentation: https://pandas.pydata.org/pandas-docs/stable/user_guide/indexing.html#returning-a-view-versus-a-copy\n",
            "  \"\"\"\n"
          ],
          "name": "stderr"
        }
      ]
    },
    {
      "cell_type": "code",
      "metadata": {
        "id": "ZesOvtf4lqsC",
        "colab": {
          "base_uri": "https://localhost:8080/"
        },
        "outputId": "4e23d8f0-9c26-4982-a29b-7dfc0bb697e6"
      },
      "source": [
        "payment_encoder = LabelEncoderExt()\n",
        "payment_encoder.fit(X_train['cust_payment_terms'])\n",
        "X_train['cust_payment_terms'] = payment_encoder.transform(X_train['cust_payment_terms'].astype('str'))\n",
        "X_val['cust_payment_terms'] = payment_encoder.transform(X_val['cust_payment_terms'].astype('str'))\n",
        "X_test['cust_payment_terms'] = payment_encoder.transform(X_test['cust_payment_terms'].astype('str'))"
      ],
      "execution_count": 42,
      "outputs": [
        {
          "output_type": "stream",
          "text": [
            "/usr/local/lib/python3.7/dist-packages/ipykernel_launcher.py:4: SettingWithCopyWarning: \n",
            "A value is trying to be set on a copy of a slice from a DataFrame.\n",
            "Try using .loc[row_indexer,col_indexer] = value instead\n",
            "\n",
            "See the caveats in the documentation: https://pandas.pydata.org/pandas-docs/stable/user_guide/indexing.html#returning-a-view-versus-a-copy\n",
            "  after removing the cwd from sys.path.\n",
            "/usr/local/lib/python3.7/dist-packages/ipykernel_launcher.py:5: SettingWithCopyWarning: \n",
            "A value is trying to be set on a copy of a slice from a DataFrame.\n",
            "Try using .loc[row_indexer,col_indexer] = value instead\n",
            "\n",
            "See the caveats in the documentation: https://pandas.pydata.org/pandas-docs/stable/user_guide/indexing.html#returning-a-view-versus-a-copy\n",
            "  \"\"\"\n"
          ],
          "name": "stderr"
        }
      ]
    },
    {
      "cell_type": "code",
      "metadata": {
        "id": "DPF04gTQlraF",
        "colab": {
          "base_uri": "https://localhost:8080/"
        },
        "outputId": "442fd784-6e1b-4d1d-e1a5-8b0041d7f64d"
      },
      "source": [
        "cust_name = LabelEncoderExt()\n",
        "cust_name.fit(X_train['name_customer'])\n",
        "X_train['name_customer'] = cust_name.transform(X_train['name_customer'].astype('str'))\n",
        "X_val['name_customer'] = cust_name.transform(X_val['name_customer'].astype('str'))\n",
        "X_test['name_customer'] = cust_name.transform(X_test['name_customer'].astype('str'))"
      ],
      "execution_count": 43,
      "outputs": [
        {
          "output_type": "stream",
          "text": [
            "/usr/local/lib/python3.7/dist-packages/ipykernel_launcher.py:4: SettingWithCopyWarning: \n",
            "A value is trying to be set on a copy of a slice from a DataFrame.\n",
            "Try using .loc[row_indexer,col_indexer] = value instead\n",
            "\n",
            "See the caveats in the documentation: https://pandas.pydata.org/pandas-docs/stable/user_guide/indexing.html#returning-a-view-versus-a-copy\n",
            "  after removing the cwd from sys.path.\n",
            "/usr/local/lib/python3.7/dist-packages/ipykernel_launcher.py:5: SettingWithCopyWarning: \n",
            "A value is trying to be set on a copy of a slice from a DataFrame.\n",
            "Try using .loc[row_indexer,col_indexer] = value instead\n",
            "\n",
            "See the caveats in the documentation: https://pandas.pydata.org/pandas-docs/stable/user_guide/indexing.html#returning-a-view-versus-a-copy\n",
            "  \"\"\"\n"
          ],
          "name": "stderr"
        }
      ]
    },
    {
      "cell_type": "code",
      "metadata": {
        "id": "Gj_W9SAskB-5",
        "colab": {
          "base_uri": "https://localhost:8080/"
        },
        "outputId": "7935f409-407d-463e-dc46-e26dc4f7ee38"
      },
      "source": [
        "incenc = LabelEncoderExt()\n",
        "incenc.fit(X_train['invoice_currency'])\n",
        "X_train['invoice_currency'] = incenc.transform(X_train['invoice_currency'].astype('str'))\n",
        "X_val['invoice_currency'] = incenc.transform(X_val['invoice_currency'].astype('str'))\n",
        "X_test['invoice_currency'] = incenc.transform(X_test['invoice_currency'].astype('str'))"
      ],
      "execution_count": 44,
      "outputs": [
        {
          "output_type": "stream",
          "text": [
            "/usr/local/lib/python3.7/dist-packages/ipykernel_launcher.py:4: SettingWithCopyWarning: \n",
            "A value is trying to be set on a copy of a slice from a DataFrame.\n",
            "Try using .loc[row_indexer,col_indexer] = value instead\n",
            "\n",
            "See the caveats in the documentation: https://pandas.pydata.org/pandas-docs/stable/user_guide/indexing.html#returning-a-view-versus-a-copy\n",
            "  after removing the cwd from sys.path.\n",
            "/usr/local/lib/python3.7/dist-packages/ipykernel_launcher.py:5: SettingWithCopyWarning: \n",
            "A value is trying to be set on a copy of a slice from a DataFrame.\n",
            "Try using .loc[row_indexer,col_indexer] = value instead\n",
            "\n",
            "See the caveats in the documentation: https://pandas.pydata.org/pandas-docs/stable/user_guide/indexing.html#returning-a-view-versus-a-copy\n",
            "  \"\"\"\n"
          ],
          "name": "stderr"
        }
      ]
    },
    {
      "cell_type": "code",
      "metadata": {
        "id": "kiwMWdBUp2tj",
        "colab": {
          "base_uri": "https://localhost:8080/"
        },
        "outputId": "b4733fff-10b5-42ef-ae76-efccbe6761cc"
      },
      "source": [
        "X_train.info()"
      ],
      "execution_count": 45,
      "outputs": [
        {
          "output_type": "stream",
          "text": [
            "<class 'pandas.core.frame.DataFrame'>\n",
            "Int64Index: 27356 entries, 0 to 27391\n",
            "Data columns (total 12 columns):\n",
            " #   Column                  Non-Null Count  Dtype         \n",
            "---  ------                  --------------  -----         \n",
            " 0   business_code           27356 non-null  int64         \n",
            " 1   cust_number             27356 non-null  int64         \n",
            " 2   name_customer           27356 non-null  int64         \n",
            " 3   clear_date              27356 non-null  datetime64[ns]\n",
            " 4   buisness_year           27356 non-null  float64       \n",
            " 5   posting_date            27356 non-null  datetime64[ns]\n",
            " 6   document_create_date.1  27356 non-null  datetime64[ns]\n",
            " 7   due_in_date             27356 non-null  datetime64[ns]\n",
            " 8   invoice_currency        27356 non-null  int64         \n",
            " 9   total_open_amount       27356 non-null  float64       \n",
            " 10  baseline_create_date    27356 non-null  datetime64[ns]\n",
            " 11  cust_payment_terms      27356 non-null  int64         \n",
            "dtypes: datetime64[ns](5), float64(2), int64(5)\n",
            "memory usage: 2.7 MB\n"
          ],
          "name": "stdout"
        }
      ]
    },
    {
      "cell_type": "markdown",
      "metadata": {
        "id": "a8swST8jmy-K"
      },
      "source": [
        "## **Feature Selection**"
      ]
    },
    {
      "cell_type": "code",
      "metadata": {
        "id": "0zBR_CNVm2J0",
        "colab": {
          "base_uri": "https://localhost:8080/"
        },
        "outputId": "c2846a52-2594-4647-bd95-ff05fae80c1c"
      },
      "source": [
        "#Feature due_time is the time from the posting_date to the due_in_date\n",
        "X_train['due_time']=pd.to_numeric((X_train['due_in_date'].dt.date-X_train['posting_date'].dt.date).dt.days, downcast='integer')\n",
        "X_val['due_time']=pd.to_numeric((X_val['due_in_date'].dt.date-X_val['posting_date'].dt.date).dt.days, downcast='integer')\n",
        "X_test['due_time']=pd.to_numeric((X_test['due_in_date'].dt.date-X_test['posting_date'].dt.date).dt.days, downcast='integer')"
      ],
      "execution_count": 46,
      "outputs": [
        {
          "output_type": "stream",
          "text": [
            "/usr/local/lib/python3.7/dist-packages/ipykernel_launcher.py:3: SettingWithCopyWarning: \n",
            "A value is trying to be set on a copy of a slice from a DataFrame.\n",
            "Try using .loc[row_indexer,col_indexer] = value instead\n",
            "\n",
            "See the caveats in the documentation: https://pandas.pydata.org/pandas-docs/stable/user_guide/indexing.html#returning-a-view-versus-a-copy\n",
            "  This is separate from the ipykernel package so we can avoid doing imports until\n",
            "/usr/local/lib/python3.7/dist-packages/ipykernel_launcher.py:4: SettingWithCopyWarning: \n",
            "A value is trying to be set on a copy of a slice from a DataFrame.\n",
            "Try using .loc[row_indexer,col_indexer] = value instead\n",
            "\n",
            "See the caveats in the documentation: https://pandas.pydata.org/pandas-docs/stable/user_guide/indexing.html#returning-a-view-versus-a-copy\n",
            "  after removing the cwd from sys.path.\n"
          ],
          "name": "stderr"
        }
      ]
    },
    {
      "cell_type": "code",
      "metadata": {
        "id": "xXaUbB9FoQrV"
      },
      "source": [
        "#Only 2 distinct values\n",
        "X_train=X_train.drop(columns=['buisness_year']).reset_index(drop=True)"
      ],
      "execution_count": 47,
      "outputs": []
    },
    {
      "cell_type": "code",
      "metadata": {
        "colab": {
          "base_uri": "https://localhost:8080/",
          "height": 833
        },
        "id": "Ibh8WJ-fViHC",
        "outputId": "b4f98c2e-7246-4ba4-b053-0d11880c08fe"
      },
      "source": [
        "#plotting the heat map\n",
        "colormap = plt.cm.RdBu\n",
        "plt.figure(figsize=(14,12))\n",
        "plt.title('Pearson Correlation of Features', y=1.05, size=15)\n",
        "sns.heatmap(X_train.merge(y_train , on = X_train.index ).corr(),linewidths=0.1,vmax=1.0, \n",
        "            square=True, cmap=colormap, linecolor='white', annot=True)"
      ],
      "execution_count": 48,
      "outputs": [
        {
          "output_type": "execute_result",
          "data": {
            "text/plain": [
              "<matplotlib.axes._subplots.AxesSubplot at 0x7f46a37e8990>"
            ]
          },
          "metadata": {
            "tags": []
          },
          "execution_count": 48
        },
        {
          "output_type": "display_data",
          "data": {
            "image/png": "[encoded data removed]",
            "text/plain": [
              "<Figure size 1008x864 with 2 Axes>"
            ]
          },
          "metadata": {
            "tags": [],
            "needs_background": "light"
          }
        }
      ]
    },
    {
      "cell_type": "markdown",
      "metadata": {
        "id": "DNs00OfVvtxL"
      },
      "source": [
        "It is difficult to select some features in specific by looking at the heatmap, hence taking all features into account"
      ]
    },
    {
      "cell_type": "code",
      "metadata": {
        "id": "2Q2G48wbvV23"
      },
      "source": [
        "#Datetime values can not be fed during model prediction, hence dropping these values\n",
        "X_train=X_train.drop(columns=['clear_date', 'posting_date', 'document_create_date.1', 'due_in_date', 'baseline_create_date']).reset_index(drop=True)"
      ],
      "execution_count": 49,
      "outputs": []
    },
    {
      "cell_type": "markdown",
      "metadata": {
        "id": "QqXV6phLr1-e"
      },
      "source": [
        "## **Modelling**"
      ]
    },
    {
      "cell_type": "code",
      "metadata": {
        "id": "Iu4AN3b-pyEu"
      },
      "source": [
        "from sklearn.linear_model import Lasso\n",
        "from sklearn.linear_model import ElasticNet\n",
        "from sklearn.linear_model import LinearRegression\n",
        "from sklearn.tree import DecisionTreeRegressor\n",
        "from sklearn.neighbors import KNeighborsRegressor\n",
        "from sklearn.ensemble import GradientBoostingRegressor\n",
        "from sklearn.linear_model import Ridge\n",
        "from sklearn.linear_model import SGDRegressor\n",
        "from sklearn.kernel_ridge import KernelRidge\n",
        "from sklearn.svm import SVR"
      ],
      "execution_count": 50,
      "outputs": []
    },
    {
      "cell_type": "code",
      "metadata": {
        "id": "Ydv5Q7YysQdj"
      },
      "source": [
        "from xgboost import XGBRegressor\n",
        "models = []"
      ],
      "execution_count": 51,
      "outputs": []
    },
    {
      "cell_type": "markdown",
      "metadata": {
        "id": "WsnNl1PKmWOz"
      },
      "source": [
        "Trying different models"
      ]
    },
    {
      "cell_type": "code",
      "metadata": {
        "id": "0IBjj_GTsjon"
      },
      "source": [
        "models.append(('Linear', LinearRegression()))\n",
        "models.append(('Ridge', Ridge()))\n",
        "models.append(('Lasso',Lasso()))\n",
        "models.append(('SGD', SGDRegressor()))\n",
        "models.append(('EN',ElasticNet()))\n",
        "models.append(('Dt',DecisionTreeRegressor()))\n",
        "models.append(('KNR',KNeighborsRegressor()))\n",
        "models.append(('GBR', GradientBoostingRegressor(random_state=1)))\n",
        "models.append(('XGB',XGBRegressor(random_state=1)))\n",
        "results = []\n",
        "names = []"
      ],
      "execution_count": 52,
      "outputs": []
    },
    {
      "cell_type": "code",
      "metadata": {
        "id": "MeaugWL5uESu"
      },
      "source": [
        "#Tranforming X_val dataframe to match X_train  \n",
        "X_val=X_val.drop(columns=['buisness_year']).reset_index(drop=True)"
      ],
      "execution_count": 53,
      "outputs": []
    },
    {
      "cell_type": "code",
      "metadata": {
        "id": "YY4w_LvwvxSr"
      },
      "source": [
        "X_val=X_val.drop(columns=['clear_date', 'posting_date', 'document_create_date.1', 'due_in_date', 'baseline_create_date']).reset_index(drop=True)"
      ],
      "execution_count": 54,
      "outputs": []
    },
    {
      "cell_type": "code",
      "metadata": {
        "colab": {
          "base_uri": "https://localhost:8080/"
        },
        "id": "suJ4FIRluydS",
        "outputId": "5def6f95-30cc-49d1-d752-571183d6c440"
      },
      "source": [
        "X_train.shape, X_val.shape"
      ],
      "execution_count": 55,
      "outputs": [
        {
          "output_type": "execute_result",
          "data": {
            "text/plain": [
              "((27356, 7), (5870, 7))"
            ]
          },
          "metadata": {
            "tags": []
          },
          "execution_count": 55
        }
      ]
    },
    {
      "cell_type": "code",
      "metadata": {
        "colab": {
          "base_uri": "https://localhost:8080/"
        },
        "id": "xZSHLecju6QY",
        "outputId": "a2d9e137-2170-43dd-fc4e-4fa023a9e83d"
      },
      "source": [
        "X_train.dtypes, X_val.dtypes"
      ],
      "execution_count": 56,
      "outputs": [
        {
          "output_type": "execute_result",
          "data": {
            "text/plain": [
              "(business_code           int64\n",
              " cust_number             int64\n",
              " name_customer           int64\n",
              " invoice_currency        int64\n",
              " total_open_amount     float64\n",
              " cust_payment_terms      int64\n",
              " due_time                 int8\n",
              " dtype: object, business_code           int64\n",
              " cust_number             int64\n",
              " name_customer           int64\n",
              " invoice_currency        int64\n",
              " total_open_amount     float64\n",
              " cust_payment_terms      int64\n",
              " due_time                 int8\n",
              " dtype: object)"
            ]
          },
          "metadata": {
            "tags": []
          },
          "execution_count": 56
        }
      ]
    },
    {
      "cell_type": "code",
      "metadata": {
        "colab": {
          "base_uri": "https://localhost:8080/"
        },
        "id": "9renNeqZtSou",
        "outputId": "f16157db-e43b-4642-ef9b-ca0d8fdcf430"
      },
      "source": [
        "from sklearn.metrics import mean_squared_error\n",
        "for name, model in models:\n",
        "    model.fit(X_train,y_train)\n",
        "    y_pred=model.predict(X_val)\n",
        "    rms=mean_squared_error(y_val, y_pred, squared=False)\n",
        "    print(name,\" : \",rms)"
      ],
      "execution_count": 57,
      "outputs": [
        {
          "output_type": "stream",
          "text": [
            "Linear  :  6.553413599219632\n",
            "Ridge  :  6.552995498007806\n",
            "Lasso  :  6.617283678888947\n",
            "SGD  :  2.353118812459852e+17\n",
            "EN  :  6.614655327000778\n",
            "Dt  :  8.347323617978686\n",
            "KNR  :  7.132686952940959\n",
            "GBR  :  5.638139957021515\n",
            "[18:38:52] WARNING: /workspace/src/objective/regression_obj.cu:152: reg:linear is now deprecated in favor of reg:squarederror.\n",
            "XGB  :  6.0161066\n"
          ],
          "name": "stdout"
        }
      ]
    },
    {
      "cell_type": "markdown",
      "metadata": {
        "id": "T46dRLsimUZe"
      },
      "source": [
        "## **Parameter Tuning**"
      ]
    },
    {
      "cell_type": "markdown",
      "metadata": {
        "id": "tGjjefGRw_2g"
      },
      "source": [
        "RMS values of XGB and GBR look optimal"
      ]
    },
    {
      "cell_type": "code",
      "metadata": {
        "id": "6OlRUyeb11wr"
      },
      "source": [
        "#Performing hyper parameter tuning for xgb\n",
        "from sklearn.model_selection import GridSearchCV\n",
        "def hyperParameterTuning(X_train, y_train):\n",
        "    param_tuning = {\n",
        "        'learning_rate': [0.01, 0.1, 0.05],\n",
        "        'max_depth': [6, 8, 10],\n",
        "        'min_child_weight': [1, 3, 5],\n",
        "        'subsample': [0.5, 0.7],\n",
        "        'colsample_bytree': [0.5, 0.7],\n",
        "        'n_estimators' : [100, 200, 500],\n",
        "        'objective': ['reg:squarederror']\n",
        "    }\n",
        "\n",
        "    xgb_model = XGBRegressor()                   \n",
        "\n",
        "    gsearch = GridSearchCV(estimator = xgb_model,\n",
        "                           param_grid = param_tuning,                        \n",
        "                           #scoring = 'neg_mean_absolute_error', #MAE\n",
        "                           #scoring = 'neg_mean_squared_error',  #MSE\n",
        "                           cv = 5,\n",
        "                           n_jobs = -1,\n",
        "                           verbose = 1)\n",
        "\n",
        "    gsearch.fit(X_train,y_train)\n",
        "\n",
        "    return gsearch.best_params_"
      ],
      "execution_count": 58,
      "outputs": []
    },
    {
      "cell_type": "code",
      "metadata": {
        "id": "SOx4xBAA7-b5"
      },
      "source": [
        "#hyperParameterTuning(X_train, y_train)"
      ],
      "execution_count": 59,
      "outputs": []
    },
    {
      "cell_type": "code",
      "metadata": {
        "id": "ij9UHwsdeUWl"
      },
      "source": [
        "#Performing hyper parameter tuning for gbr\n",
        "def hyperParameterTuningGBR(X_train, y_train):\n",
        "    param_tuning = {\n",
        "        'loss':['ls', 'huber'],\n",
        "        'learning_rate': [0.01, 0.1 , 0.05],\n",
        "        'n_estimators': [500, 1000, 1200],\n",
        "        'min_samples_split':[2, 100, 200],\n",
        "        'min_samples_leaf':[1, 5, 20],\n",
        "        'subsample':[1.0],\n",
        "        'max_depth': [3, 5, 7],\n",
        "        'max_features':['sqrt']\n",
        "    }\n",
        "\n",
        "    gbr_model = GradientBoostingRegressor()                   \n",
        "\n",
        "    gsearch = GridSearchCV(estimator = gbr_model,\n",
        "                           param_grid = param_tuning,                        \n",
        "                           #scoring = 'neg_mean_absolute_error', #MAE\n",
        "                           #scoring = 'neg_mean_squared_error',  #MSE\n",
        "                           cv = 3,\n",
        "                           n_jobs = -1,\n",
        "                           verbose = 1)\n",
        "\n",
        "    gsearch.fit(X_train,y_train)\n",
        "\n",
        "    return gsearch.best_params_"
      ],
      "execution_count": 60,
      "outputs": []
    },
    {
      "cell_type": "code",
      "metadata": {
        "id": "EApwT_d56gkk"
      },
      "source": [
        "#hyperParameterTuningGBR(X_train, y_train)"
      ],
      "execution_count": 61,
      "outputs": []
    },
    {
      "cell_type": "code",
      "metadata": {
        "id": "XB8-s9jHyDeG"
      },
      "source": [
        "#Tranforming X_test dataframe to match X_train  \n",
        "X_test=X_test.drop(columns=['buisness_year']).reset_index(drop=True)\n",
        "X_test=X_test.drop(columns=['clear_date', 'posting_date', 'document_create_date.1', 'due_in_date', 'baseline_create_date']).reset_index(drop=True)"
      ],
      "execution_count": 62,
      "outputs": []
    },
    {
      "cell_type": "code",
      "metadata": {
        "colab": {
          "base_uri": "https://localhost:8080/"
        },
        "id": "HjzN5ySgy1mM",
        "outputId": "e3e9bcd7-7979-4c51-a175-133a23930cea"
      },
      "source": [
        "#Running the GBR model based on the parameters being found out from grid search\n",
        "params={'learning_rate': 0.05,\n",
        "        'loss': 'huber',\n",
        "        'max_depth': 5,\n",
        "        'max_features': 'sqrt',\n",
        "        'min_samples_leaf': 1,\n",
        "        'min_samples_split': 2,\n",
        "        'n_estimators': 1000,\n",
        "        'random_state': 1,\n",
        "        'subsample': 1.0\n",
        "        }\n",
        "gbr_model=GradientBoostingRegressor(**params)\n",
        "gbr_model.fit(X_val,y_val)\n",
        "y_pred1=gbr_model.predict(X_val)\n",
        "rms1=mean_squared_error(y_val, y_pred1, squared=False)\n",
        "print(rms1)"
      ],
      "execution_count": 63,
      "outputs": [
        {
          "output_type": "stream",
          "text": [
            "3.0586302360845847\n"
          ],
          "name": "stdout"
        }
      ]
    },
    {
      "cell_type": "code",
      "metadata": {
        "id": "QIe6haEy0enz"
      },
      "source": [
        "#Running the XGB model based on the parameters being found out from grid search\n",
        "params2={'colsample_bytree': 0.5,\n",
        "        'learning_rate': 0.01,\n",
        "        'max_depth': 5,\n",
        "        'min_child_weight': 5,\n",
        "        'n_estimators': 500,\n",
        "        'objective': 'reg:squarederror',\n",
        "        'subsample': 1.0,\n",
        "        'random_state': 1\n",
        "        }\n",
        "xgb_model=XGBRegressor(**params2)"
      ],
      "execution_count": 64,
      "outputs": []
    },
    {
      "cell_type": "code",
      "metadata": {
        "colab": {
          "base_uri": "https://localhost:8080/"
        },
        "id": "pfodn6NCqegg",
        "outputId": "250dc0dd-ea58-4e4f-a7d5-82474674cd9f"
      },
      "source": [
        "xgb_model.fit(X_val,y_val)\n",
        "y_pred_val=xgb_model.predict(X_val)\n",
        "rms_val=mean_squared_error(y_val, y_pred_val, squared=False)\n",
        "print(rms_val)"
      ],
      "execution_count": 65,
      "outputs": [
        {
          "output_type": "stream",
          "text": [
            "4.3342047\n"
          ],
          "name": "stdout"
        }
      ]
    },
    {
      "cell_type": "markdown",
      "metadata": {
        "id": "iNW6SdEsxw3W"
      },
      "source": [
        "The RMS score for the GBR model to too less, XGB is a better choice"
      ]
    },
    {
      "cell_type": "code",
      "metadata": {
        "colab": {
          "base_uri": "https://localhost:8080/"
        },
        "id": "OxWrSU17VEab",
        "outputId": "5dfd35df-fcae-49f6-d37e-28c17fccb04b"
      },
      "source": [
        "from sklearn.metrics import mean_absolute_error\n",
        "from sklearn.metrics import r2_score\n",
        "y_pred_xgb=xgb_model.predict(X_val)\n",
        "rms=mean_squared_error(y_val, y_pred_xgb, squared=False)\n",
        "mae=mean_absolute_error(y_val, y_pred_xgb)\n",
        "r2=r2_score(y_val, y_pred_xgb)\n",
        "print('Final RMS = ',rms),print('Final MAE = ',mae),print('R2 = ',r2)"
      ],
      "execution_count": 66,
      "outputs": [
        {
          "output_type": "stream",
          "text": [
            "Final RMS =  4.3342047\n",
            "Final MAE =  2.4343667\n",
            "R2 =  0.6066869804365669\n"
          ],
          "name": "stdout"
        },
        {
          "output_type": "execute_result",
          "data": {
            "text/plain": [
              "(None, None, None)"
            ]
          },
          "metadata": {
            "tags": []
          },
          "execution_count": 66
        }
      ]
    },
    {
      "cell_type": "code",
      "metadata": {
        "colab": {
          "base_uri": "https://localhost:8080/"
        },
        "id": "J0xZyXenZv7E",
        "outputId": "28cf85a0-c849-4489-e2f2-c97de3fd06f5"
      },
      "source": [
        "xgb_model.fit(X_test,y_test)\n",
        "y_pred2=xgb_model.predict(X_test)\n",
        "rms_test=mean_squared_error(y_test, y_pred2, squared=False)\n",
        "print(rms_test)"
      ],
      "execution_count": 67,
      "outputs": [
        {
          "output_type": "stream",
          "text": [
            "6.0594335\n"
          ],
          "name": "stdout"
        }
      ]
    },
    {
      "cell_type": "markdown",
      "metadata": {
        "id": "TjlWokUP48jA"
      },
      "source": [
        "## **Clearly XGB has a better overall RMS, hence this model can be chosen for prediction**"
      ]
    },
    {
      "cell_type": "markdown",
      "metadata": {
        "id": "8JxBWdXYJBu8"
      },
      "source": [
        "# ***Let's now move towards making prediction***"
      ]
    },
    {
      "cell_type": "markdown",
      "metadata": {
        "id": "IGt0tGyOCAiP"
      },
      "source": [
        "## **Preprocessing on test dataframe**"
      ]
    },
    {
      "cell_type": "code",
      "metadata": {
        "id": "VTUQ_CWx4HXD"
      },
      "source": [
        "#Tranforming test dataframe to match X_train  \n",
        "test=test.drop(columns=['invoice_id', 'doc_id', 'document_create_date', 'document type']).reset_index(drop=True)"
      ],
      "execution_count": 68,
      "outputs": []
    },
    {
      "cell_type": "code",
      "metadata": {
        "colab": {
          "base_uri": "https://localhost:8080/"
        },
        "id": "TdEBT7rm77kh",
        "outputId": "a09cbf7a-126f-403d-a71c-9a146fb5108b"
      },
      "source": [
        "test.info()"
      ],
      "execution_count": 69,
      "outputs": [
        {
          "output_type": "stream",
          "text": [
            "<class 'pandas.core.frame.DataFrame'>\n",
            "RangeIndex: 10000 entries, 0 to 9999\n",
            "Data columns (total 15 columns):\n",
            " #   Column                  Non-Null Count  Dtype  \n",
            "---  ------                  --------------  -----  \n",
            " 0   business_code           10000 non-null  object \n",
            " 1   cust_number             10000 non-null  object \n",
            " 2   name_customer           10000 non-null  object \n",
            " 3   clear_date              0 non-null      object \n",
            " 4   buisness_year           10000 non-null  float64\n",
            " 5   posting_date            10000 non-null  object \n",
            " 6   document_create_date.1  10000 non-null  int64  \n",
            " 7   due_in_date             10000 non-null  float64\n",
            " 8   invoice_currency        10000 non-null  object \n",
            " 9   posting_id              10000 non-null  float64\n",
            " 10  area_business           0 non-null      float64\n",
            " 11  total_open_amount       10000 non-null  float64\n",
            " 12  baseline_create_date    10000 non-null  float64\n",
            " 13  cust_payment_terms      10000 non-null  object \n",
            " 14  isOpen                  10000 non-null  int64  \n",
            "dtypes: float64(6), int64(2), object(7)\n",
            "memory usage: 1.1+ MB\n"
          ],
          "name": "stdout"
        }
      ]
    },
    {
      "cell_type": "code",
      "metadata": {
        "colab": {
          "base_uri": "https://localhost:8080/"
        },
        "id": "DUY1S86Z7_JR",
        "outputId": "f6263ac5-45f4-455d-89d4-f9ff3d5f97d5"
      },
      "source": [
        "X_test.info()"
      ],
      "execution_count": 70,
      "outputs": [
        {
          "output_type": "stream",
          "text": [
            "<class 'pandas.core.frame.DataFrame'>\n",
            "RangeIndex: 5870 entries, 0 to 5869\n",
            "Data columns (total 7 columns):\n",
            " #   Column              Non-Null Count  Dtype  \n",
            "---  ------              --------------  -----  \n",
            " 0   business_code       5870 non-null   int64  \n",
            " 1   cust_number         5870 non-null   int64  \n",
            " 2   name_customer       5870 non-null   int64  \n",
            " 3   invoice_currency    5870 non-null   int64  \n",
            " 4   total_open_amount   5870 non-null   float64\n",
            " 5   cust_payment_terms  5870 non-null   int64  \n",
            " 6   due_time            5870 non-null   int8   \n",
            "dtypes: float64(1), int64(5), int8(1)\n",
            "memory usage: 281.0 KB\n"
          ],
          "name": "stdout"
        }
      ]
    },
    {
      "cell_type": "code",
      "metadata": {
        "id": "QbaxeYL7B-p8"
      },
      "source": [
        "test=test.drop(columns=['isOpen', 'posting_id']).reset_index(drop=True)"
      ],
      "execution_count": 71,
      "outputs": []
    },
    {
      "cell_type": "markdown",
      "metadata": {
        "id": "Bkha_dtKCwFz"
      },
      "source": [
        "## **Feature Engg on test**"
      ]
    },
    {
      "cell_type": "code",
      "metadata": {
        "id": "pd6jLWODCu-c"
      },
      "source": [
        "#Encoding all the object type values to int64 for test dataframe\n",
        "test['business_code'] = business_encoder.transform(test['business_code'])\n",
        "test['cust_number'] = cust_encoder.transform(test['cust_number'].astype('str'))\n",
        "test['cust_payment_terms'] = payment_encoder.transform(test['cust_payment_terms'].astype('str'))\n",
        "test['name_customer'] = cust_name.transform(test['name_customer'].astype('str'))\n",
        "test['invoice_currency'] = incenc.transform(test['invoice_currency'].astype('str'))"
      ],
      "execution_count": 72,
      "outputs": []
    },
    {
      "cell_type": "code",
      "metadata": {
        "colab": {
          "base_uri": "https://localhost:8080/"
        },
        "id": "k7fGr-oOEmtD",
        "outputId": "8bebee7b-fac3-4584-ddde-61e9b67eeb2e"
      },
      "source": [
        "test.info()"
      ],
      "execution_count": 73,
      "outputs": [
        {
          "output_type": "stream",
          "text": [
            "<class 'pandas.core.frame.DataFrame'>\n",
            "RangeIndex: 10000 entries, 0 to 9999\n",
            "Data columns (total 13 columns):\n",
            " #   Column                  Non-Null Count  Dtype  \n",
            "---  ------                  --------------  -----  \n",
            " 0   business_code           10000 non-null  int64  \n",
            " 1   cust_number             10000 non-null  int64  \n",
            " 2   name_customer           10000 non-null  int64  \n",
            " 3   clear_date              0 non-null      object \n",
            " 4   buisness_year           10000 non-null  float64\n",
            " 5   posting_date            10000 non-null  object \n",
            " 6   document_create_date.1  10000 non-null  int64  \n",
            " 7   due_in_date             10000 non-null  float64\n",
            " 8   invoice_currency        10000 non-null  int64  \n",
            " 9   area_business           0 non-null      float64\n",
            " 10  total_open_amount       10000 non-null  float64\n",
            " 11  baseline_create_date    10000 non-null  float64\n",
            " 12  cust_payment_terms      10000 non-null  int64  \n",
            "dtypes: float64(5), int64(6), object(2)\n",
            "memory usage: 1015.8+ KB\n"
          ],
          "name": "stdout"
        }
      ]
    },
    {
      "cell_type": "markdown",
      "metadata": {
        "id": "_6ykGzY5EwPU"
      },
      "source": [
        "## **Feature Selection on test**"
      ]
    },
    {
      "cell_type": "code",
      "metadata": {
        "id": "katrkPsrIVzS"
      },
      "source": [
        "#coverting the dates to same format as on the other dataframes\n",
        "test['clear_date']=pd.to_datetime(test['clear_date'])\n",
        "test['due_in_date'] = pd.to_datetime(test['due_in_date'], format='%Y%m%d')\n",
        "test['baseline_create_date'] = pd.to_datetime(test['baseline_create_date'], format='%Y%m%d')\n",
        "test['posting_date']=pd.to_datetime(test['posting_date'])\n",
        "test['document_create_date.1']=pd.to_datetime(test['document_create_date.1'], format='%Y%m%d', errors='ignore')"
      ],
      "execution_count": 74,
      "outputs": []
    },
    {
      "cell_type": "code",
      "metadata": {
        "id": "J7Yui3MXEvsQ"
      },
      "source": [
        "#Adding the same feature to the dataframe as added in X_train, X_val, X_test\n",
        "test['due_time']=pd.to_numeric((test['due_in_date'].dt.date-test['posting_date'].dt.date).dt.days, downcast='integer')"
      ],
      "execution_count": 75,
      "outputs": []
    },
    {
      "cell_type": "code",
      "metadata": {
        "colab": {
          "base_uri": "https://localhost:8080/"
        },
        "id": "8TM7GZtfJPXT",
        "outputId": "47c0f91c-e910-418c-f536-e7c7c384e7af"
      },
      "source": [
        "test.info()"
      ],
      "execution_count": 76,
      "outputs": [
        {
          "output_type": "stream",
          "text": [
            "<class 'pandas.core.frame.DataFrame'>\n",
            "RangeIndex: 10000 entries, 0 to 9999\n",
            "Data columns (total 14 columns):\n",
            " #   Column                  Non-Null Count  Dtype         \n",
            "---  ------                  --------------  -----         \n",
            " 0   business_code           10000 non-null  int64         \n",
            " 1   cust_number             10000 non-null  int64         \n",
            " 2   name_customer           10000 non-null  int64         \n",
            " 3   clear_date              0 non-null      datetime64[ns]\n",
            " 4   buisness_year           10000 non-null  float64       \n",
            " 5   posting_date            10000 non-null  datetime64[ns]\n",
            " 6   document_create_date.1  10000 non-null  datetime64[ns]\n",
            " 7   due_in_date             10000 non-null  datetime64[ns]\n",
            " 8   invoice_currency        10000 non-null  int64         \n",
            " 9   area_business           0 non-null      float64       \n",
            " 10  total_open_amount       10000 non-null  float64       \n",
            " 11  baseline_create_date    10000 non-null  datetime64[ns]\n",
            " 12  cust_payment_terms      10000 non-null  int64         \n",
            " 13  due_time                10000 non-null  int8          \n",
            "dtypes: datetime64[ns](5), float64(3), int64(5), int8(1)\n",
            "memory usage: 1.0 MB\n"
          ],
          "name": "stdout"
        }
      ]
    },
    {
      "cell_type": "code",
      "metadata": {
        "id": "ouDbtoBk2rlh"
      },
      "source": [
        "test=test.drop(columns=['area_business', 'buisness_year', 'clear_date', 'posting_date', 'document_create_date.1', 'due_in_date', 'baseline_create_date']).reset_index(drop=True)"
      ],
      "execution_count": 77,
      "outputs": []
    },
    {
      "cell_type": "code",
      "metadata": {
        "colab": {
          "base_uri": "https://localhost:8080/"
        },
        "id": "zKCF13JS4xuU",
        "outputId": "7f689f76-eeea-4c8f-83d2-9ca8fdf7b15f"
      },
      "source": [
        "X_train.info()"
      ],
      "execution_count": 78,
      "outputs": [
        {
          "output_type": "stream",
          "text": [
            "<class 'pandas.core.frame.DataFrame'>\n",
            "RangeIndex: 27356 entries, 0 to 27355\n",
            "Data columns (total 7 columns):\n",
            " #   Column              Non-Null Count  Dtype  \n",
            "---  ------              --------------  -----  \n",
            " 0   business_code       27356 non-null  int64  \n",
            " 1   cust_number         27356 non-null  int64  \n",
            " 2   name_customer       27356 non-null  int64  \n",
            " 3   invoice_currency    27356 non-null  int64  \n",
            " 4   total_open_amount   27356 non-null  float64\n",
            " 5   cust_payment_terms  27356 non-null  int64  \n",
            " 6   due_time            27356 non-null  int8   \n",
            "dtypes: float64(1), int64(5), int8(1)\n",
            "memory usage: 1.3 MB\n"
          ],
          "name": "stdout"
        }
      ]
    },
    {
      "cell_type": "code",
      "metadata": {
        "colab": {
          "base_uri": "https://localhost:8080/"
        },
        "id": "RVt41cgkJY6o",
        "outputId": "75d04696-ee90-4a27-c56e-8d6810887f91"
      },
      "source": [
        "test.info()"
      ],
      "execution_count": 79,
      "outputs": [
        {
          "output_type": "stream",
          "text": [
            "<class 'pandas.core.frame.DataFrame'>\n",
            "RangeIndex: 10000 entries, 0 to 9999\n",
            "Data columns (total 7 columns):\n",
            " #   Column              Non-Null Count  Dtype  \n",
            "---  ------              --------------  -----  \n",
            " 0   business_code       10000 non-null  int64  \n",
            " 1   cust_number         10000 non-null  int64  \n",
            " 2   name_customer       10000 non-null  int64  \n",
            " 3   invoice_currency    10000 non-null  int64  \n",
            " 4   total_open_amount   10000 non-null  float64\n",
            " 5   cust_payment_terms  10000 non-null  int64  \n",
            " 6   due_time            10000 non-null  int8   \n",
            "dtypes: float64(1), int64(5), int8(1)\n",
            "memory usage: 478.6 KB\n"
          ],
          "name": "stdout"
        }
      ]
    },
    {
      "cell_type": "markdown",
      "metadata": {
        "id": "hDtytD4zIwDh"
      },
      "source": [
        "## **Prediction**"
      ]
    },
    {
      "cell_type": "code",
      "metadata": {
        "id": "e9YOltGeSoTz"
      },
      "source": [
        "y_pred_xgb=xgb_model.predict(test)\n",
        "y_pred_xgb=pd.Series(y_pred_xgb,name='delay')\n",
        "Final_xgb = final_test.merge(y_pred_xgb , on = test.index )"
      ],
      "execution_count": 80,
      "outputs": []
    },
    {
      "cell_type": "code",
      "metadata": {
        "colab": {
          "base_uri": "https://localhost:8080/",
          "height": 526
        },
        "id": "uD7xthnMSyiI",
        "outputId": "37c0e622-98c5-4133-f31b-43a957e8192c"
      },
      "source": [
        "#Binning the values as per delay\n",
        "bins_s=[-100,-1,15,30,45,60,500]\n",
        "labels_s=['<0','0-15','16-30','31-45','46-60','>60']\n",
        "Final_xgb['delay_in_bins']=pd.cut(Final_xgb['delay'],bins=bins_s,labels=labels_s)\n",
        "Final_xgb"
      ],
      "execution_count": 81,
      "outputs": [
        {
          "output_type": "execute_result",
          "data": {
            "text/html": [
              "<div>\n",
              "<style scoped>\n",
              "    .dataframe tbody tr th:only-of-type {\n",
              "        vertical-align: middle;\n",
              "    }\n",
              "\n",
              "    .dataframe tbody tr th {\n",
              "        vertical-align: top;\n",
              "    }\n",
              "\n",
              "    .dataframe thead th {\n",
              "        text-align: right;\n",
              "    }\n",
              "</style>\n",
              "<table border=\"1\" class=\"dataframe\">\n",
              "  <thead>\n",
              "    <tr style=\"text-align: right;\">\n",
              "      <th></th>\n",
              "      <th>key_0</th>\n",
              "      <th>business_code</th>\n",
              "      <th>cust_number</th>\n",
              "      <th>name_customer</th>\n",
              "      <th>clear_date</th>\n",
              "      <th>buisness_year</th>\n",
              "      <th>doc_id</th>\n",
              "      <th>posting_date</th>\n",
              "      <th>document_create_date</th>\n",
              "      <th>document_create_date.1</th>\n",
              "      <th>due_in_date</th>\n",
              "      <th>invoice_currency</th>\n",
              "      <th>document type</th>\n",
              "      <th>posting_id</th>\n",
              "      <th>area_business</th>\n",
              "      <th>total_open_amount</th>\n",
              "      <th>baseline_create_date</th>\n",
              "      <th>cust_payment_terms</th>\n",
              "      <th>invoice_id</th>\n",
              "      <th>isOpen</th>\n",
              "      <th>delay</th>\n",
              "      <th>delay_in_bins</th>\n",
              "    </tr>\n",
              "  </thead>\n",
              "  <tbody>\n",
              "    <tr>\n",
              "      <th>0</th>\n",
              "      <td>0</td>\n",
              "      <td>U001</td>\n",
              "      <td>0200782001</td>\n",
              "      <td>GORDO associates</td>\n",
              "      <td>NaN</td>\n",
              "      <td>2020.0</td>\n",
              "      <td>1.930580e+09</td>\n",
              "      <td>2020-02-27</td>\n",
              "      <td>20200227</td>\n",
              "      <td>20200227</td>\n",
              "      <td>20200313.0</td>\n",
              "      <td>USD</td>\n",
              "      <td>RV</td>\n",
              "      <td>1.0</td>\n",
              "      <td>NaN</td>\n",
              "      <td>21863.80</td>\n",
              "      <td>20200227.0</td>\n",
              "      <td>NAA8</td>\n",
              "      <td>1.930580e+09</td>\n",
              "      <td>1</td>\n",
              "      <td>0.618550</td>\n",
              "      <td>0-15</td>\n",
              "    </tr>\n",
              "    <tr>\n",
              "      <th>1</th>\n",
              "      <td>1</td>\n",
              "      <td>U001</td>\n",
              "      <td>0200748108</td>\n",
              "      <td>KROGER systems</td>\n",
              "      <td>NaN</td>\n",
              "      <td>2020.0</td>\n",
              "      <td>1.930571e+09</td>\n",
              "      <td>2020-02-27</td>\n",
              "      <td>20200226</td>\n",
              "      <td>20200227</td>\n",
              "      <td>20200313.0</td>\n",
              "      <td>USD</td>\n",
              "      <td>RV</td>\n",
              "      <td>1.0</td>\n",
              "      <td>NaN</td>\n",
              "      <td>51827.85</td>\n",
              "      <td>20200227.0</td>\n",
              "      <td>NAA8</td>\n",
              "      <td>1.930571e+09</td>\n",
              "      <td>1</td>\n",
              "      <td>0.952276</td>\n",
              "      <td>0-15</td>\n",
              "    </tr>\n",
              "    <tr>\n",
              "      <th>2</th>\n",
              "      <td>2</td>\n",
              "      <td>CA02</td>\n",
              "      <td>0140104429</td>\n",
              "      <td>COSTCO corporation</td>\n",
              "      <td>NaN</td>\n",
              "      <td>2020.0</td>\n",
              "      <td>2.960617e+09</td>\n",
              "      <td>2020-02-27</td>\n",
              "      <td>20200227</td>\n",
              "      <td>20200227</td>\n",
              "      <td>20200309.0</td>\n",
              "      <td>CAD</td>\n",
              "      <td>RV</td>\n",
              "      <td>1.0</td>\n",
              "      <td>NaN</td>\n",
              "      <td>41239.38</td>\n",
              "      <td>20200228.0</td>\n",
              "      <td>CA10</td>\n",
              "      <td>2.960617e+09</td>\n",
              "      <td>1</td>\n",
              "      <td>5.397031</td>\n",
              "      <td>0-15</td>\n",
              "    </tr>\n",
              "    <tr>\n",
              "      <th>3</th>\n",
              "      <td>3</td>\n",
              "      <td>U001</td>\n",
              "      <td>0200764795</td>\n",
              "      <td>SYSCO  in</td>\n",
              "      <td>NaN</td>\n",
              "      <td>2020.0</td>\n",
              "      <td>1.930580e+09</td>\n",
              "      <td>2020-02-27</td>\n",
              "      <td>20200228</td>\n",
              "      <td>20200227</td>\n",
              "      <td>20200313.0</td>\n",
              "      <td>USD</td>\n",
              "      <td>RV</td>\n",
              "      <td>1.0</td>\n",
              "      <td>NaN</td>\n",
              "      <td>6830.97</td>\n",
              "      <td>20200227.0</td>\n",
              "      <td>NAA8</td>\n",
              "      <td>1.930580e+09</td>\n",
              "      <td>1</td>\n",
              "      <td>1.080835</td>\n",
              "      <td>0-15</td>\n",
              "    </tr>\n",
              "    <tr>\n",
              "      <th>4</th>\n",
              "      <td>4</td>\n",
              "      <td>U001</td>\n",
              "      <td>CCU013</td>\n",
              "      <td>KRAFT F co</td>\n",
              "      <td>NaN</td>\n",
              "      <td>2020.0</td>\n",
              "      <td>1.930568e+09</td>\n",
              "      <td>2020-02-27</td>\n",
              "      <td>20200225</td>\n",
              "      <td>20200227</td>\n",
              "      <td>20200227.0</td>\n",
              "      <td>USD</td>\n",
              "      <td>RV</td>\n",
              "      <td>1.0</td>\n",
              "      <td>NaN</td>\n",
              "      <td>8745.15</td>\n",
              "      <td>20200227.0</td>\n",
              "      <td>NAX2</td>\n",
              "      <td>1.930568e+09</td>\n",
              "      <td>1</td>\n",
              "      <td>41.371975</td>\n",
              "      <td>31-45</td>\n",
              "    </tr>\n",
              "    <tr>\n",
              "      <th>...</th>\n",
              "      <td>...</td>\n",
              "      <td>...</td>\n",
              "      <td>...</td>\n",
              "      <td>...</td>\n",
              "      <td>...</td>\n",
              "      <td>...</td>\n",
              "      <td>...</td>\n",
              "      <td>...</td>\n",
              "      <td>...</td>\n",
              "      <td>...</td>\n",
              "      <td>...</td>\n",
              "      <td>...</td>\n",
              "      <td>...</td>\n",
              "      <td>...</td>\n",
              "      <td>...</td>\n",
              "      <td>...</td>\n",
              "      <td>...</td>\n",
              "      <td>...</td>\n",
              "      <td>...</td>\n",
              "      <td>...</td>\n",
              "      <td>...</td>\n",
              "      <td>...</td>\n",
              "    </tr>\n",
              "    <tr>\n",
              "      <th>9995</th>\n",
              "      <td>9995</td>\n",
              "      <td>CA02</td>\n",
              "      <td>0140104392</td>\n",
              "      <td>FLANAG us</td>\n",
              "      <td>NaN</td>\n",
              "      <td>2020.0</td>\n",
              "      <td>2.960635e+09</td>\n",
              "      <td>2020-05-14</td>\n",
              "      <td>20200514</td>\n",
              "      <td>20200514</td>\n",
              "      <td>20200524.0</td>\n",
              "      <td>CAD</td>\n",
              "      <td>RV</td>\n",
              "      <td>1.0</td>\n",
              "      <td>NaN</td>\n",
              "      <td>3750.83</td>\n",
              "      <td>20200514.0</td>\n",
              "      <td>CA10</td>\n",
              "      <td>2.960635e+09</td>\n",
              "      <td>1</td>\n",
              "      <td>4.510490</td>\n",
              "      <td>0-15</td>\n",
              "    </tr>\n",
              "    <tr>\n",
              "      <th>9996</th>\n",
              "      <td>9996</td>\n",
              "      <td>U001</td>\n",
              "      <td>0200915438</td>\n",
              "      <td>GROC corporation</td>\n",
              "      <td>NaN</td>\n",
              "      <td>2020.0</td>\n",
              "      <td>1.930905e+09</td>\n",
              "      <td>2020-05-15</td>\n",
              "      <td>20200515</td>\n",
              "      <td>20200515</td>\n",
              "      <td>20200530.0</td>\n",
              "      <td>USD</td>\n",
              "      <td>RV</td>\n",
              "      <td>1.0</td>\n",
              "      <td>NaN</td>\n",
              "      <td>24212.00</td>\n",
              "      <td>20200515.0</td>\n",
              "      <td>NAA8</td>\n",
              "      <td>1.930905e+09</td>\n",
              "      <td>1</td>\n",
              "      <td>0.669090</td>\n",
              "      <td>0-15</td>\n",
              "    </tr>\n",
              "    <tr>\n",
              "      <th>9997</th>\n",
              "      <td>9997</td>\n",
              "      <td>CA02</td>\n",
              "      <td>0140105785</td>\n",
              "      <td>SHOPPE in</td>\n",
              "      <td>NaN</td>\n",
              "      <td>2020.0</td>\n",
              "      <td>2.960636e+09</td>\n",
              "      <td>2020-05-19</td>\n",
              "      <td>20200519</td>\n",
              "      <td>20200519</td>\n",
              "      <td>20200529.0</td>\n",
              "      <td>CAD</td>\n",
              "      <td>RV</td>\n",
              "      <td>1.0</td>\n",
              "      <td>NaN</td>\n",
              "      <td>1373.60</td>\n",
              "      <td>20200519.0</td>\n",
              "      <td>CA10</td>\n",
              "      <td>2.960636e+09</td>\n",
              "      <td>1</td>\n",
              "      <td>8.235074</td>\n",
              "      <td>0-15</td>\n",
              "    </tr>\n",
              "    <tr>\n",
              "      <th>9998</th>\n",
              "      <td>9998</td>\n",
              "      <td>U001</td>\n",
              "      <td>200956366</td>\n",
              "      <td>RICH systems</td>\n",
              "      <td>NaN</td>\n",
              "      <td>2020.0</td>\n",
              "      <td>1.930910e+09</td>\n",
              "      <td>2020-05-21</td>\n",
              "      <td>20200516</td>\n",
              "      <td>20200521</td>\n",
              "      <td>20200605.0</td>\n",
              "      <td>USD</td>\n",
              "      <td>RV</td>\n",
              "      <td>1.0</td>\n",
              "      <td>NaN</td>\n",
              "      <td>42360.00</td>\n",
              "      <td>20200521.0</td>\n",
              "      <td>NAA8</td>\n",
              "      <td>1.930910e+09</td>\n",
              "      <td>1</td>\n",
              "      <td>8.258457</td>\n",
              "      <td>0-15</td>\n",
              "    </tr>\n",
              "    <tr>\n",
              "      <th>9999</th>\n",
              "      <td>9999</td>\n",
              "      <td>U001</td>\n",
              "      <td>0200756072</td>\n",
              "      <td>REINHA corporation</td>\n",
              "      <td>NaN</td>\n",
              "      <td>2020.0</td>\n",
              "      <td>1.930933e+09</td>\n",
              "      <td>2020-05-22</td>\n",
              "      <td>20200522</td>\n",
              "      <td>20200522</td>\n",
              "      <td>20200621.0</td>\n",
              "      <td>USD</td>\n",
              "      <td>RV</td>\n",
              "      <td>1.0</td>\n",
              "      <td>NaN</td>\n",
              "      <td>1.17</td>\n",
              "      <td>20200522.0</td>\n",
              "      <td>NAD5</td>\n",
              "      <td>1.930933e+09</td>\n",
              "      <td>1</td>\n",
              "      <td>4.591588</td>\n",
              "      <td>0-15</td>\n",
              "    </tr>\n",
              "  </tbody>\n",
              "</table>\n",
              "<p>10000 rows × 22 columns</p>\n",
              "</div>"
            ],
            "text/plain": [
              "      key_0 business_code cust_number  ... isOpen      delay  delay_in_bins\n",
              "0         0          U001  0200782001  ...      1   0.618550           0-15\n",
              "1         1          U001  0200748108  ...      1   0.952276           0-15\n",
              "2         2          CA02  0140104429  ...      1   5.397031           0-15\n",
              "3         3          U001  0200764795  ...      1   1.080835           0-15\n",
              "4         4          U001      CCU013  ...      1  41.371975          31-45\n",
              "...     ...           ...         ...  ...    ...        ...            ...\n",
              "9995   9995          CA02  0140104392  ...      1   4.510490           0-15\n",
              "9996   9996          U001  0200915438  ...      1   0.669090           0-15\n",
              "9997   9997          CA02  0140105785  ...      1   8.235074           0-15\n",
              "9998   9998          U001   200956366  ...      1   8.258457           0-15\n",
              "9999   9999          U001  0200756072  ...      1   4.591588           0-15\n",
              "\n",
              "[10000 rows x 22 columns]"
            ]
          },
          "metadata": {
            "tags": []
          },
          "execution_count": 81
        }
      ]
    },
    {
      "cell_type": "code",
      "metadata": {
        "colab": {
          "base_uri": "https://localhost:8080/",
          "height": 282
        },
        "id": "0HDFsyY-TCZM",
        "outputId": "2e58f429-daa6-46f9-973f-44ee3f489b81"
      },
      "source": [
        "#Graph representation of the data as per delay in payment\n",
        "counts=Final_xgb.delay_in_bins.value_counts()\n",
        "counts.sort_index(inplace=True)\n",
        "\n",
        "sns.barplot(x = counts.index, y = counts)\n",
        "plt.ylabel('counts')"
      ],
      "execution_count": 82,
      "outputs": [
        {
          "output_type": "execute_result",
          "data": {
            "text/plain": [
              "Text(0, 0.5, 'counts')"
            ]
          },
          "metadata": {
            "tags": []
          },
          "execution_count": 82
        },
        {
          "output_type": "display_data",
          "data": {
            "image/png": "[encoded data removed]",
            "text/plain": [
              "<Figure size 432x288 with 1 Axes>"
            ]
          },
          "metadata": {
            "tags": [],
            "needs_background": "light"
          }
        }
      ]
    },
    {
      "cell_type": "code",
      "metadata": {
        "id": "FdOYp2ilTzcI"
      },
      "source": [
        "#predicting clear_date\n",
        "Final_xgb['due_in_date'] = pd.to_datetime(Final_xgb['due_in_date'], format='%Y%m%d')\n",
        "Final_xgb['clear_date_prediction']=Final_xgb['due_in_date'] + pd.to_timedelta(Final_xgb['delay'],unit='d')\n",
        "Final_xgb['clear_date_prediction'] = pd.to_datetime(Final_xgb['clear_date_prediction']).dt.date"
      ],
      "execution_count": 83,
      "outputs": []
    },
    {
      "cell_type": "code",
      "metadata": {
        "colab": {
          "base_uri": "https://localhost:8080/",
          "height": 526
        },
        "id": "0kLEBEF3uOWs",
        "outputId": "84f654ca-db02-4c9e-cc13-76b3a71e2fee"
      },
      "source": [
        "Final_xgb"
      ],
      "execution_count": 84,
      "outputs": [
        {
          "output_type": "execute_result",
          "data": {
            "text/html": [
              "<div>\n",
              "<style scoped>\n",
              "    .dataframe tbody tr th:only-of-type {\n",
              "        vertical-align: middle;\n",
              "    }\n",
              "\n",
              "    .dataframe tbody tr th {\n",
              "        vertical-align: top;\n",
              "    }\n",
              "\n",
              "    .dataframe thead th {\n",
              "        text-align: right;\n",
              "    }\n",
              "</style>\n",
              "<table border=\"1\" class=\"dataframe\">\n",
              "  <thead>\n",
              "    <tr style=\"text-align: right;\">\n",
              "      <th></th>\n",
              "      <th>key_0</th>\n",
              "      <th>business_code</th>\n",
              "      <th>cust_number</th>\n",
              "      <th>name_customer</th>\n",
              "      <th>clear_date</th>\n",
              "      <th>buisness_year</th>\n",
              "      <th>doc_id</th>\n",
              "      <th>posting_date</th>\n",
              "      <th>document_create_date</th>\n",
              "      <th>document_create_date.1</th>\n",
              "      <th>due_in_date</th>\n",
              "      <th>invoice_currency</th>\n",
              "      <th>document type</th>\n",
              "      <th>posting_id</th>\n",
              "      <th>area_business</th>\n",
              "      <th>total_open_amount</th>\n",
              "      <th>baseline_create_date</th>\n",
              "      <th>cust_payment_terms</th>\n",
              "      <th>invoice_id</th>\n",
              "      <th>isOpen</th>\n",
              "      <th>delay</th>\n",
              "      <th>delay_in_bins</th>\n",
              "      <th>clear_date_prediction</th>\n",
              "    </tr>\n",
              "  </thead>\n",
              "  <tbody>\n",
              "    <tr>\n",
              "      <th>0</th>\n",
              "      <td>0</td>\n",
              "      <td>U001</td>\n",
              "      <td>0200782001</td>\n",
              "      <td>GORDO associates</td>\n",
              "      <td>NaN</td>\n",
              "      <td>2020.0</td>\n",
              "      <td>1.930580e+09</td>\n",
              "      <td>2020-02-27</td>\n",
              "      <td>20200227</td>\n",
              "      <td>20200227</td>\n",
              "      <td>2020-03-13</td>\n",
              "      <td>USD</td>\n",
              "      <td>RV</td>\n",
              "      <td>1.0</td>\n",
              "      <td>NaN</td>\n",
              "      <td>21863.80</td>\n",
              "      <td>20200227.0</td>\n",
              "      <td>NAA8</td>\n",
              "      <td>1.930580e+09</td>\n",
              "      <td>1</td>\n",
              "      <td>0.618550</td>\n",
              "      <td>0-15</td>\n",
              "      <td>2020-03-13</td>\n",
              "    </tr>\n",
              "    <tr>\n",
              "      <th>1</th>\n",
              "      <td>1</td>\n",
              "      <td>U001</td>\n",
              "      <td>0200748108</td>\n",
              "      <td>KROGER systems</td>\n",
              "      <td>NaN</td>\n",
              "      <td>2020.0</td>\n",
              "      <td>1.930571e+09</td>\n",
              "      <td>2020-02-27</td>\n",
              "      <td>20200226</td>\n",
              "      <td>20200227</td>\n",
              "      <td>2020-03-13</td>\n",
              "      <td>USD</td>\n",
              "      <td>RV</td>\n",
              "      <td>1.0</td>\n",
              "      <td>NaN</td>\n",
              "      <td>51827.85</td>\n",
              "      <td>20200227.0</td>\n",
              "      <td>NAA8</td>\n",
              "      <td>1.930571e+09</td>\n",
              "      <td>1</td>\n",
              "      <td>0.952276</td>\n",
              "      <td>0-15</td>\n",
              "      <td>2020-03-13</td>\n",
              "    </tr>\n",
              "    <tr>\n",
              "      <th>2</th>\n",
              "      <td>2</td>\n",
              "      <td>CA02</td>\n",
              "      <td>0140104429</td>\n",
              "      <td>COSTCO corporation</td>\n",
              "      <td>NaN</td>\n",
              "      <td>2020.0</td>\n",
              "      <td>2.960617e+09</td>\n",
              "      <td>2020-02-27</td>\n",
              "      <td>20200227</td>\n",
              "      <td>20200227</td>\n",
              "      <td>2020-03-09</td>\n",
              "      <td>CAD</td>\n",
              "      <td>RV</td>\n",
              "      <td>1.0</td>\n",
              "      <td>NaN</td>\n",
              "      <td>41239.38</td>\n",
              "      <td>20200228.0</td>\n",
              "      <td>CA10</td>\n",
              "      <td>2.960617e+09</td>\n",
              "      <td>1</td>\n",
              "      <td>5.397031</td>\n",
              "      <td>0-15</td>\n",
              "      <td>2020-03-14</td>\n",
              "    </tr>\n",
              "    <tr>\n",
              "      <th>3</th>\n",
              "      <td>3</td>\n",
              "      <td>U001</td>\n",
              "      <td>0200764795</td>\n",
              "      <td>SYSCO  in</td>\n",
              "      <td>NaN</td>\n",
              "      <td>2020.0</td>\n",
              "      <td>1.930580e+09</td>\n",
              "      <td>2020-02-27</td>\n",
              "      <td>20200228</td>\n",
              "      <td>20200227</td>\n",
              "      <td>2020-03-13</td>\n",
              "      <td>USD</td>\n",
              "      <td>RV</td>\n",
              "      <td>1.0</td>\n",
              "      <td>NaN</td>\n",
              "      <td>6830.97</td>\n",
              "      <td>20200227.0</td>\n",
              "      <td>NAA8</td>\n",
              "      <td>1.930580e+09</td>\n",
              "      <td>1</td>\n",
              "      <td>1.080835</td>\n",
              "      <td>0-15</td>\n",
              "      <td>2020-03-14</td>\n",
              "    </tr>\n",
              "    <tr>\n",
              "      <th>4</th>\n",
              "      <td>4</td>\n",
              "      <td>U001</td>\n",
              "      <td>CCU013</td>\n",
              "      <td>KRAFT F co</td>\n",
              "      <td>NaN</td>\n",
              "      <td>2020.0</td>\n",
              "      <td>1.930568e+09</td>\n",
              "      <td>2020-02-27</td>\n",
              "      <td>20200225</td>\n",
              "      <td>20200227</td>\n",
              "      <td>2020-02-27</td>\n",
              "      <td>USD</td>\n",
              "      <td>RV</td>\n",
              "      <td>1.0</td>\n",
              "      <td>NaN</td>\n",
              "      <td>8745.15</td>\n",
              "      <td>20200227.0</td>\n",
              "      <td>NAX2</td>\n",
              "      <td>1.930568e+09</td>\n",
              "      <td>1</td>\n",
              "      <td>41.371975</td>\n",
              "      <td>31-45</td>\n",
              "      <td>2020-04-08</td>\n",
              "    </tr>\n",
              "    <tr>\n",
              "      <th>...</th>\n",
              "      <td>...</td>\n",
              "      <td>...</td>\n",
              "      <td>...</td>\n",
              "      <td>...</td>\n",
              "      <td>...</td>\n",
              "      <td>...</td>\n",
              "      <td>...</td>\n",
              "      <td>...</td>\n",
              "      <td>...</td>\n",
              "      <td>...</td>\n",
              "      <td>...</td>\n",
              "      <td>...</td>\n",
              "      <td>...</td>\n",
              "      <td>...</td>\n",
              "      <td>...</td>\n",
              "      <td>...</td>\n",
              "      <td>...</td>\n",
              "      <td>...</td>\n",
              "      <td>...</td>\n",
              "      <td>...</td>\n",
              "      <td>...</td>\n",
              "      <td>...</td>\n",
              "      <td>...</td>\n",
              "    </tr>\n",
              "    <tr>\n",
              "      <th>9995</th>\n",
              "      <td>9995</td>\n",
              "      <td>CA02</td>\n",
              "      <td>0140104392</td>\n",
              "      <td>FLANAG us</td>\n",
              "      <td>NaN</td>\n",
              "      <td>2020.0</td>\n",
              "      <td>2.960635e+09</td>\n",
              "      <td>2020-05-14</td>\n",
              "      <td>20200514</td>\n",
              "      <td>20200514</td>\n",
              "      <td>2020-05-24</td>\n",
              "      <td>CAD</td>\n",
              "      <td>RV</td>\n",
              "      <td>1.0</td>\n",
              "      <td>NaN</td>\n",
              "      <td>3750.83</td>\n",
              "      <td>20200514.0</td>\n",
              "      <td>CA10</td>\n",
              "      <td>2.960635e+09</td>\n",
              "      <td>1</td>\n",
              "      <td>4.510490</td>\n",
              "      <td>0-15</td>\n",
              "      <td>2020-05-28</td>\n",
              "    </tr>\n",
              "    <tr>\n",
              "      <th>9996</th>\n",
              "      <td>9996</td>\n",
              "      <td>U001</td>\n",
              "      <td>0200915438</td>\n",
              "      <td>GROC corporation</td>\n",
              "      <td>NaN</td>\n",
              "      <td>2020.0</td>\n",
              "      <td>1.930905e+09</td>\n",
              "      <td>2020-05-15</td>\n",
              "      <td>20200515</td>\n",
              "      <td>20200515</td>\n",
              "      <td>2020-05-30</td>\n",
              "      <td>USD</td>\n",
              "      <td>RV</td>\n",
              "      <td>1.0</td>\n",
              "      <td>NaN</td>\n",
              "      <td>24212.00</td>\n",
              "      <td>20200515.0</td>\n",
              "      <td>NAA8</td>\n",
              "      <td>1.930905e+09</td>\n",
              "      <td>1</td>\n",
              "      <td>0.669090</td>\n",
              "      <td>0-15</td>\n",
              "      <td>2020-05-30</td>\n",
              "    </tr>\n",
              "    <tr>\n",
              "      <th>9997</th>\n",
              "      <td>9997</td>\n",
              "      <td>CA02</td>\n",
              "      <td>0140105785</td>\n",
              "      <td>SHOPPE in</td>\n",
              "      <td>NaN</td>\n",
              "      <td>2020.0</td>\n",
              "      <td>2.960636e+09</td>\n",
              "      <td>2020-05-19</td>\n",
              "      <td>20200519</td>\n",
              "      <td>20200519</td>\n",
              "      <td>2020-05-29</td>\n",
              "      <td>CAD</td>\n",
              "      <td>RV</td>\n",
              "      <td>1.0</td>\n",
              "      <td>NaN</td>\n",
              "      <td>1373.60</td>\n",
              "      <td>20200519.0</td>\n",
              "      <td>CA10</td>\n",
              "      <td>2.960636e+09</td>\n",
              "      <td>1</td>\n",
              "      <td>8.235074</td>\n",
              "      <td>0-15</td>\n",
              "      <td>2020-06-06</td>\n",
              "    </tr>\n",
              "    <tr>\n",
              "      <th>9998</th>\n",
              "      <td>9998</td>\n",
              "      <td>U001</td>\n",
              "      <td>200956366</td>\n",
              "      <td>RICH systems</td>\n",
              "      <td>NaN</td>\n",
              "      <td>2020.0</td>\n",
              "      <td>1.930910e+09</td>\n",
              "      <td>2020-05-21</td>\n",
              "      <td>20200516</td>\n",
              "      <td>20200521</td>\n",
              "      <td>2020-06-05</td>\n",
              "      <td>USD</td>\n",
              "      <td>RV</td>\n",
              "      <td>1.0</td>\n",
              "      <td>NaN</td>\n",
              "      <td>42360.00</td>\n",
              "      <td>20200521.0</td>\n",
              "      <td>NAA8</td>\n",
              "      <td>1.930910e+09</td>\n",
              "      <td>1</td>\n",
              "      <td>8.258457</td>\n",
              "      <td>0-15</td>\n",
              "      <td>2020-06-13</td>\n",
              "    </tr>\n",
              "    <tr>\n",
              "      <th>9999</th>\n",
              "      <td>9999</td>\n",
              "      <td>U001</td>\n",
              "      <td>0200756072</td>\n",
              "      <td>REINHA corporation</td>\n",
              "      <td>NaN</td>\n",
              "      <td>2020.0</td>\n",
              "      <td>1.930933e+09</td>\n",
              "      <td>2020-05-22</td>\n",
              "      <td>20200522</td>\n",
              "      <td>20200522</td>\n",
              "      <td>2020-06-21</td>\n",
              "      <td>USD</td>\n",
              "      <td>RV</td>\n",
              "      <td>1.0</td>\n",
              "      <td>NaN</td>\n",
              "      <td>1.17</td>\n",
              "      <td>20200522.0</td>\n",
              "      <td>NAD5</td>\n",
              "      <td>1.930933e+09</td>\n",
              "      <td>1</td>\n",
              "      <td>4.591588</td>\n",
              "      <td>0-15</td>\n",
              "      <td>2020-06-25</td>\n",
              "    </tr>\n",
              "  </tbody>\n",
              "</table>\n",
              "<p>10000 rows × 23 columns</p>\n",
              "</div>"
            ],
            "text/plain": [
              "      key_0 business_code  ... delay_in_bins clear_date_prediction\n",
              "0         0          U001  ...          0-15            2020-03-13\n",
              "1         1          U001  ...          0-15            2020-03-13\n",
              "2         2          CA02  ...          0-15            2020-03-14\n",
              "3         3          U001  ...          0-15            2020-03-14\n",
              "4         4          U001  ...         31-45            2020-04-08\n",
              "...     ...           ...  ...           ...                   ...\n",
              "9995   9995          CA02  ...          0-15            2020-05-28\n",
              "9996   9996          U001  ...          0-15            2020-05-30\n",
              "9997   9997          CA02  ...          0-15            2020-06-06\n",
              "9998   9998          U001  ...          0-15            2020-06-13\n",
              "9999   9999          U001  ...          0-15            2020-06-25\n",
              "\n",
              "[10000 rows x 23 columns]"
            ]
          },
          "metadata": {
            "tags": []
          },
          "execution_count": 84
        }
      ]
    },
    {
      "cell_type": "code",
      "metadata": {
        "id": "ipN8cmsRuQUF"
      },
      "source": [
        "Final_xgb=Final_xgb.drop(columns=['delay']).reset_index(drop=True)"
      ],
      "execution_count": 85,
      "outputs": []
    },
    {
      "cell_type": "code",
      "metadata": {
        "colab": {
          "base_uri": "https://localhost:8080/",
          "height": 526
        },
        "id": "J0g32gREy6c_",
        "outputId": "e2212a78-5b3f-4867-f54c-19625f7447db"
      },
      "source": [
        "Final_xgb"
      ],
      "execution_count": 86,
      "outputs": [
        {
          "output_type": "execute_result",
          "data": {
            "text/html": [
              "<div>\n",
              "<style scoped>\n",
              "    .dataframe tbody tr th:only-of-type {\n",
              "        vertical-align: middle;\n",
              "    }\n",
              "\n",
              "    .dataframe tbody tr th {\n",
              "        vertical-align: top;\n",
              "    }\n",
              "\n",
              "    .dataframe thead th {\n",
              "        text-align: right;\n",
              "    }\n",
              "</style>\n",
              "<table border=\"1\" class=\"dataframe\">\n",
              "  <thead>\n",
              "    <tr style=\"text-align: right;\">\n",
              "      <th></th>\n",
              "      <th>key_0</th>\n",
              "      <th>business_code</th>\n",
              "      <th>cust_number</th>\n",
              "      <th>name_customer</th>\n",
              "      <th>clear_date</th>\n",
              "      <th>buisness_year</th>\n",
              "      <th>doc_id</th>\n",
              "      <th>posting_date</th>\n",
              "      <th>document_create_date</th>\n",
              "      <th>document_create_date.1</th>\n",
              "      <th>due_in_date</th>\n",
              "      <th>invoice_currency</th>\n",
              "      <th>document type</th>\n",
              "      <th>posting_id</th>\n",
              "      <th>area_business</th>\n",
              "      <th>total_open_amount</th>\n",
              "      <th>baseline_create_date</th>\n",
              "      <th>cust_payment_terms</th>\n",
              "      <th>invoice_id</th>\n",
              "      <th>isOpen</th>\n",
              "      <th>delay_in_bins</th>\n",
              "      <th>clear_date_prediction</th>\n",
              "    </tr>\n",
              "  </thead>\n",
              "  <tbody>\n",
              "    <tr>\n",
              "      <th>0</th>\n",
              "      <td>0</td>\n",
              "      <td>U001</td>\n",
              "      <td>0200782001</td>\n",
              "      <td>GORDO associates</td>\n",
              "      <td>NaN</td>\n",
              "      <td>2020.0</td>\n",
              "      <td>1.930580e+09</td>\n",
              "      <td>2020-02-27</td>\n",
              "      <td>20200227</td>\n",
              "      <td>20200227</td>\n",
              "      <td>2020-03-13</td>\n",
              "      <td>USD</td>\n",
              "      <td>RV</td>\n",
              "      <td>1.0</td>\n",
              "      <td>NaN</td>\n",
              "      <td>21863.80</td>\n",
              "      <td>20200227.0</td>\n",
              "      <td>NAA8</td>\n",
              "      <td>1.930580e+09</td>\n",
              "      <td>1</td>\n",
              "      <td>0-15</td>\n",
              "      <td>2020-03-13</td>\n",
              "    </tr>\n",
              "    <tr>\n",
              "      <th>1</th>\n",
              "      <td>1</td>\n",
              "      <td>U001</td>\n",
              "      <td>0200748108</td>\n",
              "      <td>KROGER systems</td>\n",
              "      <td>NaN</td>\n",
              "      <td>2020.0</td>\n",
              "      <td>1.930571e+09</td>\n",
              "      <td>2020-02-27</td>\n",
              "      <td>20200226</td>\n",
              "      <td>20200227</td>\n",
              "      <td>2020-03-13</td>\n",
              "      <td>USD</td>\n",
              "      <td>RV</td>\n",
              "      <td>1.0</td>\n",
              "      <td>NaN</td>\n",
              "      <td>51827.85</td>\n",
              "      <td>20200227.0</td>\n",
              "      <td>NAA8</td>\n",
              "      <td>1.930571e+09</td>\n",
              "      <td>1</td>\n",
              "      <td>0-15</td>\n",
              "      <td>2020-03-13</td>\n",
              "    </tr>\n",
              "    <tr>\n",
              "      <th>2</th>\n",
              "      <td>2</td>\n",
              "      <td>CA02</td>\n",
              "      <td>0140104429</td>\n",
              "      <td>COSTCO corporation</td>\n",
              "      <td>NaN</td>\n",
              "      <td>2020.0</td>\n",
              "      <td>2.960617e+09</td>\n",
              "      <td>2020-02-27</td>\n",
              "      <td>20200227</td>\n",
              "      <td>20200227</td>\n",
              "      <td>2020-03-09</td>\n",
              "      <td>CAD</td>\n",
              "      <td>RV</td>\n",
              "      <td>1.0</td>\n",
              "      <td>NaN</td>\n",
              "      <td>41239.38</td>\n",
              "      <td>20200228.0</td>\n",
              "      <td>CA10</td>\n",
              "      <td>2.960617e+09</td>\n",
              "      <td>1</td>\n",
              "      <td>0-15</td>\n",
              "      <td>2020-03-14</td>\n",
              "    </tr>\n",
              "    <tr>\n",
              "      <th>3</th>\n",
              "      <td>3</td>\n",
              "      <td>U001</td>\n",
              "      <td>0200764795</td>\n",
              "      <td>SYSCO  in</td>\n",
              "      <td>NaN</td>\n",
              "      <td>2020.0</td>\n",
              "      <td>1.930580e+09</td>\n",
              "      <td>2020-02-27</td>\n",
              "      <td>20200228</td>\n",
              "      <td>20200227</td>\n",
              "      <td>2020-03-13</td>\n",
              "      <td>USD</td>\n",
              "      <td>RV</td>\n",
              "      <td>1.0</td>\n",
              "      <td>NaN</td>\n",
              "      <td>6830.97</td>\n",
              "      <td>20200227.0</td>\n",
              "      <td>NAA8</td>\n",
              "      <td>1.930580e+09</td>\n",
              "      <td>1</td>\n",
              "      <td>0-15</td>\n",
              "      <td>2020-03-14</td>\n",
              "    </tr>\n",
              "    <tr>\n",
              "      <th>4</th>\n",
              "      <td>4</td>\n",
              "      <td>U001</td>\n",
              "      <td>CCU013</td>\n",
              "      <td>KRAFT F co</td>\n",
              "      <td>NaN</td>\n",
              "      <td>2020.0</td>\n",
              "      <td>1.930568e+09</td>\n",
              "      <td>2020-02-27</td>\n",
              "      <td>20200225</td>\n",
              "      <td>20200227</td>\n",
              "      <td>2020-02-27</td>\n",
              "      <td>USD</td>\n",
              "      <td>RV</td>\n",
              "      <td>1.0</td>\n",
              "      <td>NaN</td>\n",
              "      <td>8745.15</td>\n",
              "      <td>20200227.0</td>\n",
              "      <td>NAX2</td>\n",
              "      <td>1.930568e+09</td>\n",
              "      <td>1</td>\n",
              "      <td>31-45</td>\n",
              "      <td>2020-04-08</td>\n",
              "    </tr>\n",
              "    <tr>\n",
              "      <th>...</th>\n",
              "      <td>...</td>\n",
              "      <td>...</td>\n",
              "      <td>...</td>\n",
              "      <td>...</td>\n",
              "      <td>...</td>\n",
              "      <td>...</td>\n",
              "      <td>...</td>\n",
              "      <td>...</td>\n",
              "      <td>...</td>\n",
              "      <td>...</td>\n",
              "      <td>...</td>\n",
              "      <td>...</td>\n",
              "      <td>...</td>\n",
              "      <td>...</td>\n",
              "      <td>...</td>\n",
              "      <td>...</td>\n",
              "      <td>...</td>\n",
              "      <td>...</td>\n",
              "      <td>...</td>\n",
              "      <td>...</td>\n",
              "      <td>...</td>\n",
              "      <td>...</td>\n",
              "    </tr>\n",
              "    <tr>\n",
              "      <th>9995</th>\n",
              "      <td>9995</td>\n",
              "      <td>CA02</td>\n",
              "      <td>0140104392</td>\n",
              "      <td>FLANAG us</td>\n",
              "      <td>NaN</td>\n",
              "      <td>2020.0</td>\n",
              "      <td>2.960635e+09</td>\n",
              "      <td>2020-05-14</td>\n",
              "      <td>20200514</td>\n",
              "      <td>20200514</td>\n",
              "      <td>2020-05-24</td>\n",
              "      <td>CAD</td>\n",
              "      <td>RV</td>\n",
              "      <td>1.0</td>\n",
              "      <td>NaN</td>\n",
              "      <td>3750.83</td>\n",
              "      <td>20200514.0</td>\n",
              "      <td>CA10</td>\n",
              "      <td>2.960635e+09</td>\n",
              "      <td>1</td>\n",
              "      <td>0-15</td>\n",
              "      <td>2020-05-28</td>\n",
              "    </tr>\n",
              "    <tr>\n",
              "      <th>9996</th>\n",
              "      <td>9996</td>\n",
              "      <td>U001</td>\n",
              "      <td>0200915438</td>\n",
              "      <td>GROC corporation</td>\n",
              "      <td>NaN</td>\n",
              "      <td>2020.0</td>\n",
              "      <td>1.930905e+09</td>\n",
              "      <td>2020-05-15</td>\n",
              "      <td>20200515</td>\n",
              "      <td>20200515</td>\n",
              "      <td>2020-05-30</td>\n",
              "      <td>USD</td>\n",
              "      <td>RV</td>\n",
              "      <td>1.0</td>\n",
              "      <td>NaN</td>\n",
              "      <td>24212.00</td>\n",
              "      <td>20200515.0</td>\n",
              "      <td>NAA8</td>\n",
              "      <td>1.930905e+09</td>\n",
              "      <td>1</td>\n",
              "      <td>0-15</td>\n",
              "      <td>2020-05-30</td>\n",
              "    </tr>\n",
              "    <tr>\n",
              "      <th>9997</th>\n",
              "      <td>9997</td>\n",
              "      <td>CA02</td>\n",
              "      <td>0140105785</td>\n",
              "      <td>SHOPPE in</td>\n",
              "      <td>NaN</td>\n",
              "      <td>2020.0</td>\n",
              "      <td>2.960636e+09</td>\n",
              "      <td>2020-05-19</td>\n",
              "      <td>20200519</td>\n",
              "      <td>20200519</td>\n",
              "      <td>2020-05-29</td>\n",
              "      <td>CAD</td>\n",
              "      <td>RV</td>\n",
              "      <td>1.0</td>\n",
              "      <td>NaN</td>\n",
              "      <td>1373.60</td>\n",
              "      <td>20200519.0</td>\n",
              "      <td>CA10</td>\n",
              "      <td>2.960636e+09</td>\n",
              "      <td>1</td>\n",
              "      <td>0-15</td>\n",
              "      <td>2020-06-06</td>\n",
              "    </tr>\n",
              "    <tr>\n",
              "      <th>9998</th>\n",
              "      <td>9998</td>\n",
              "      <td>U001</td>\n",
              "      <td>200956366</td>\n",
              "      <td>RICH systems</td>\n",
              "      <td>NaN</td>\n",
              "      <td>2020.0</td>\n",
              "      <td>1.930910e+09</td>\n",
              "      <td>2020-05-21</td>\n",
              "      <td>20200516</td>\n",
              "      <td>20200521</td>\n",
              "      <td>2020-06-05</td>\n",
              "      <td>USD</td>\n",
              "      <td>RV</td>\n",
              "      <td>1.0</td>\n",
              "      <td>NaN</td>\n",
              "      <td>42360.00</td>\n",
              "      <td>20200521.0</td>\n",
              "      <td>NAA8</td>\n",
              "      <td>1.930910e+09</td>\n",
              "      <td>1</td>\n",
              "      <td>0-15</td>\n",
              "      <td>2020-06-13</td>\n",
              "    </tr>\n",
              "    <tr>\n",
              "      <th>9999</th>\n",
              "      <td>9999</td>\n",
              "      <td>U001</td>\n",
              "      <td>0200756072</td>\n",
              "      <td>REINHA corporation</td>\n",
              "      <td>NaN</td>\n",
              "      <td>2020.0</td>\n",
              "      <td>1.930933e+09</td>\n",
              "      <td>2020-05-22</td>\n",
              "      <td>20200522</td>\n",
              "      <td>20200522</td>\n",
              "      <td>2020-06-21</td>\n",
              "      <td>USD</td>\n",
              "      <td>RV</td>\n",
              "      <td>1.0</td>\n",
              "      <td>NaN</td>\n",
              "      <td>1.17</td>\n",
              "      <td>20200522.0</td>\n",
              "      <td>NAD5</td>\n",
              "      <td>1.930933e+09</td>\n",
              "      <td>1</td>\n",
              "      <td>0-15</td>\n",
              "      <td>2020-06-25</td>\n",
              "    </tr>\n",
              "  </tbody>\n",
              "</table>\n",
              "<p>10000 rows × 22 columns</p>\n",
              "</div>"
            ],
            "text/plain": [
              "      key_0 business_code  ... delay_in_bins clear_date_prediction\n",
              "0         0          U001  ...          0-15            2020-03-13\n",
              "1         1          U001  ...          0-15            2020-03-13\n",
              "2         2          CA02  ...          0-15            2020-03-14\n",
              "3         3          U001  ...          0-15            2020-03-14\n",
              "4         4          U001  ...         31-45            2020-04-08\n",
              "...     ...           ...  ...           ...                   ...\n",
              "9995   9995          CA02  ...          0-15            2020-05-28\n",
              "9996   9996          U001  ...          0-15            2020-05-30\n",
              "9997   9997          CA02  ...          0-15            2020-06-06\n",
              "9998   9998          U001  ...          0-15            2020-06-13\n",
              "9999   9999          U001  ...          0-15            2020-06-25\n",
              "\n",
              "[10000 rows x 22 columns]"
            ]
          },
          "metadata": {
            "tags": []
          },
          "execution_count": 86
        }
      ]
    },
    {
      "cell_type": "code",
      "metadata": {
        "id": "0033R-7Hy8cG"
      },
      "source": [
        ""
      ],
      "execution_count": 86,
      "outputs": []
    }
  ]
}